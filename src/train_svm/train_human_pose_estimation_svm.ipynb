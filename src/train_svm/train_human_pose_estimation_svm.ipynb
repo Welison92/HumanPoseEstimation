{
  "nbformat": 4,
  "nbformat_minor": 0,
  "metadata": {
    "colab": {
      "provenance": []
    },
    "kernelspec": {
      "name": "python3",
      "display_name": "Python 3"
    },
    "language_info": {
      "name": "python"
    }
  },
  "cells": [
    {
      "cell_type": "code",
      "execution_count": null,
      "metadata": {
        "cellView": "form",
        "id": "UC1tOHbzE1AV"
      },
      "outputs": [],
      "source": [
        "# @title Importando bibliotecas\n",
        "\n",
        "# Imports do sistema\n",
        "import warnings\n",
        "\n",
        "# Imports de terceiros\n",
        "from IPython.display import clear_output\n",
        "import matplotlib.pyplot as plt\n",
        "import numpy as np\n",
        "import pandas as pd\n",
        "import seaborn as sns\n",
        "from sklearn.discriminant_analysis import LinearDiscriminantAnalysis as LDA\n",
        "from sklearn.ensemble import (\n",
        "    AdaBoostClassifier, ExtraTreesClassifier, GradientBoostingClassifier,\n",
        "    HistGradientBoostingClassifier, RandomForestClassifier\n",
        "    )\n",
        "from sklearn.linear_model import LinearRegression, LogisticRegression, Perceptron\n",
        "from sklearn.metrics import (\n",
        "    accuracy_score, classification_report, confusion_matrix,\n",
        "    roc_auc_score, roc_curve\n",
        "    )\n",
        "from sklearn.model_selection import (\n",
        "    GridSearchCV, KFold, cross_val_score,\n",
        "    train_test_split\n",
        "    )\n",
        "from sklearn.naive_bayes import BernoulliNB, GaussianNB, MultinomialNB\n",
        "from sklearn.neighbors import KNeighborsClassifier, NearestCentroid\n",
        "from sklearn.preprocessing import LabelEncoder, StandardScaler\n",
        "from sklearn.svm import SVC\n",
        "from sklearn.tree import DecisionTreeClassifier\n",
        "from xgboost import XGBClassifier\n"
      ]
    },
    {
      "cell_type": "code",
      "source": [
        "# @title Importando o dataset\n",
        "\n",
        "# Definição do caminho\n",
        "PATH = '/content/drive/MyDrive/Materiais do TCC/Teste YOLO/Projeto Canoas/TCC2'\n",
        "\n",
        "# Carrega o DataFrame a partir do arquivo CSV\n",
        "df = pd.read_csv(PATH + '/keypoints_pose_v1.csv')\n",
        "\n",
        "# Obtém o conjunto de dados de keypoints\n",
        "df = df.iloc[:, 1:]\n",
        "\n",
        "# Exibe as 5 primeiras linhas do DataFrame\n",
        "df.head()\n"
      ],
      "metadata": {
        "cellView": "form",
        "id": "yUi7b0Q-GT7K",
        "colab": {
          "base_uri": "https://localhost:8080/",
          "height": 256
        },
        "outputId": "269c5c44-da4f-4b56-cc33-710435acde29"
      },
      "execution_count": null,
      "outputs": [
        {
          "output_type": "execute_result",
          "data": {
            "text/plain": [
              "   label    nose_x    nose_y  left_eye_x  left_eye_y  right_eye_x  \\\n",
              "0  Caido  0.792430  0.613291    0.799647    0.631989     0.800377   \n",
              "1  Caido  0.625301  0.288902    0.662422    0.235695     0.596074   \n",
              "2  Caido  0.372103  0.386051    0.373427    0.341881     0.348586   \n",
              "3  Caido  0.156863  0.411583    0.154728    0.384514     0.141616   \n",
              "4  Caido  0.669781  0.656873    0.677087    0.678207     0.685352   \n",
              "\n",
              "   right_eye_y  left_ear_x  left_ear_y  right_ear_x  ...  right_hip_x  \\\n",
              "0     0.603245    0.778640    0.693841     0.787107  ...     0.589738   \n",
              "1     0.234829    0.706336    0.238714     0.555535  ...     0.771434   \n",
              "2     0.367384    0.378351    0.311462     0.305991  ...     0.452212   \n",
              "3     0.407594    0.160759    0.347576     0.126216  ...     0.253522   \n",
              "4     0.637484    0.000000    0.000000     0.688933  ...     0.466173   \n",
              "\n",
              "   right_hip_y  left_knee_x  left_knee_y  right_knee_x  right_knee_y  \\\n",
              "0     0.646124     0.543216     0.447671      0.559041      0.439603   \n",
              "1     0.262907     0.950526     0.257640      0.871672      0.195308   \n",
              "2     0.698635     0.715847     0.632951      0.511068      0.862256   \n",
              "3     0.449974     0.360880     0.496519      0.314429      0.535502   \n",
              "4     0.459130     0.506871     0.766583      0.385452      0.668150   \n",
              "\n",
              "   left_ankle_x  left_ankle_y  right_ankle_x  right_ankle_y  \n",
              "0      0.512550      0.241521       0.528212       0.228444  \n",
              "1      0.967513      0.120665       0.907647       0.081932  \n",
              "2      0.892082      0.604929       0.735559       0.828270  \n",
              "3      0.448568      0.583480       0.391605       0.595416  \n",
              "4      0.309221      0.786041       0.200879       0.686373  \n",
              "\n",
              "[5 rows x 35 columns]"
            ],
            "text/html": [
              "\n",
              "  <div id=\"df-e3cdd73d-66d7-4a1c-8d2c-2c04e8dc92e4\" class=\"colab-df-container\">\n",
              "    <div>\n",
              "<style scoped>\n",
              "    .dataframe tbody tr th:only-of-type {\n",
              "        vertical-align: middle;\n",
              "    }\n",
              "\n",
              "    .dataframe tbody tr th {\n",
              "        vertical-align: top;\n",
              "    }\n",
              "\n",
              "    .dataframe thead th {\n",
              "        text-align: right;\n",
              "    }\n",
              "</style>\n",
              "<table border=\"1\" class=\"dataframe\">\n",
              "  <thead>\n",
              "    <tr style=\"text-align: right;\">\n",
              "      <th></th>\n",
              "      <th>label</th>\n",
              "      <th>nose_x</th>\n",
              "      <th>nose_y</th>\n",
              "      <th>left_eye_x</th>\n",
              "      <th>left_eye_y</th>\n",
              "      <th>right_eye_x</th>\n",
              "      <th>right_eye_y</th>\n",
              "      <th>left_ear_x</th>\n",
              "      <th>left_ear_y</th>\n",
              "      <th>right_ear_x</th>\n",
              "      <th>...</th>\n",
              "      <th>right_hip_x</th>\n",
              "      <th>right_hip_y</th>\n",
              "      <th>left_knee_x</th>\n",
              "      <th>left_knee_y</th>\n",
              "      <th>right_knee_x</th>\n",
              "      <th>right_knee_y</th>\n",
              "      <th>left_ankle_x</th>\n",
              "      <th>left_ankle_y</th>\n",
              "      <th>right_ankle_x</th>\n",
              "      <th>right_ankle_y</th>\n",
              "    </tr>\n",
              "  </thead>\n",
              "  <tbody>\n",
              "    <tr>\n",
              "      <th>0</th>\n",
              "      <td>Caido</td>\n",
              "      <td>0.792430</td>\n",
              "      <td>0.613291</td>\n",
              "      <td>0.799647</td>\n",
              "      <td>0.631989</td>\n",
              "      <td>0.800377</td>\n",
              "      <td>0.603245</td>\n",
              "      <td>0.778640</td>\n",
              "      <td>0.693841</td>\n",
              "      <td>0.787107</td>\n",
              "      <td>...</td>\n",
              "      <td>0.589738</td>\n",
              "      <td>0.646124</td>\n",
              "      <td>0.543216</td>\n",
              "      <td>0.447671</td>\n",
              "      <td>0.559041</td>\n",
              "      <td>0.439603</td>\n",
              "      <td>0.512550</td>\n",
              "      <td>0.241521</td>\n",
              "      <td>0.528212</td>\n",
              "      <td>0.228444</td>\n",
              "    </tr>\n",
              "    <tr>\n",
              "      <th>1</th>\n",
              "      <td>Caido</td>\n",
              "      <td>0.625301</td>\n",
              "      <td>0.288902</td>\n",
              "      <td>0.662422</td>\n",
              "      <td>0.235695</td>\n",
              "      <td>0.596074</td>\n",
              "      <td>0.234829</td>\n",
              "      <td>0.706336</td>\n",
              "      <td>0.238714</td>\n",
              "      <td>0.555535</td>\n",
              "      <td>...</td>\n",
              "      <td>0.771434</td>\n",
              "      <td>0.262907</td>\n",
              "      <td>0.950526</td>\n",
              "      <td>0.257640</td>\n",
              "      <td>0.871672</td>\n",
              "      <td>0.195308</td>\n",
              "      <td>0.967513</td>\n",
              "      <td>0.120665</td>\n",
              "      <td>0.907647</td>\n",
              "      <td>0.081932</td>\n",
              "    </tr>\n",
              "    <tr>\n",
              "      <th>2</th>\n",
              "      <td>Caido</td>\n",
              "      <td>0.372103</td>\n",
              "      <td>0.386051</td>\n",
              "      <td>0.373427</td>\n",
              "      <td>0.341881</td>\n",
              "      <td>0.348586</td>\n",
              "      <td>0.367384</td>\n",
              "      <td>0.378351</td>\n",
              "      <td>0.311462</td>\n",
              "      <td>0.305991</td>\n",
              "      <td>...</td>\n",
              "      <td>0.452212</td>\n",
              "      <td>0.698635</td>\n",
              "      <td>0.715847</td>\n",
              "      <td>0.632951</td>\n",
              "      <td>0.511068</td>\n",
              "      <td>0.862256</td>\n",
              "      <td>0.892082</td>\n",
              "      <td>0.604929</td>\n",
              "      <td>0.735559</td>\n",
              "      <td>0.828270</td>\n",
              "    </tr>\n",
              "    <tr>\n",
              "      <th>3</th>\n",
              "      <td>Caido</td>\n",
              "      <td>0.156863</td>\n",
              "      <td>0.411583</td>\n",
              "      <td>0.154728</td>\n",
              "      <td>0.384514</td>\n",
              "      <td>0.141616</td>\n",
              "      <td>0.407594</td>\n",
              "      <td>0.160759</td>\n",
              "      <td>0.347576</td>\n",
              "      <td>0.126216</td>\n",
              "      <td>...</td>\n",
              "      <td>0.253522</td>\n",
              "      <td>0.449974</td>\n",
              "      <td>0.360880</td>\n",
              "      <td>0.496519</td>\n",
              "      <td>0.314429</td>\n",
              "      <td>0.535502</td>\n",
              "      <td>0.448568</td>\n",
              "      <td>0.583480</td>\n",
              "      <td>0.391605</td>\n",
              "      <td>0.595416</td>\n",
              "    </tr>\n",
              "    <tr>\n",
              "      <th>4</th>\n",
              "      <td>Caido</td>\n",
              "      <td>0.669781</td>\n",
              "      <td>0.656873</td>\n",
              "      <td>0.677087</td>\n",
              "      <td>0.678207</td>\n",
              "      <td>0.685352</td>\n",
              "      <td>0.637484</td>\n",
              "      <td>0.000000</td>\n",
              "      <td>0.000000</td>\n",
              "      <td>0.688933</td>\n",
              "      <td>...</td>\n",
              "      <td>0.466173</td>\n",
              "      <td>0.459130</td>\n",
              "      <td>0.506871</td>\n",
              "      <td>0.766583</td>\n",
              "      <td>0.385452</td>\n",
              "      <td>0.668150</td>\n",
              "      <td>0.309221</td>\n",
              "      <td>0.786041</td>\n",
              "      <td>0.200879</td>\n",
              "      <td>0.686373</td>\n",
              "    </tr>\n",
              "  </tbody>\n",
              "</table>\n",
              "<p>5 rows × 35 columns</p>\n",
              "</div>\n",
              "    <div class=\"colab-df-buttons\">\n",
              "\n",
              "  <div class=\"colab-df-container\">\n",
              "    <button class=\"colab-df-convert\" onclick=\"convertToInteractive('df-e3cdd73d-66d7-4a1c-8d2c-2c04e8dc92e4')\"\n",
              "            title=\"Convert this dataframe to an interactive table.\"\n",
              "            style=\"display:none;\">\n",
              "\n",
              "  <svg xmlns=\"http://www.w3.org/2000/svg\" height=\"24px\" viewBox=\"0 -960 960 960\">\n",
              "    <path d=\"M120-120v-720h720v720H120Zm60-500h600v-160H180v160Zm220 220h160v-160H400v160Zm0 220h160v-160H400v160ZM180-400h160v-160H180v160Zm440 0h160v-160H620v160ZM180-180h160v-160H180v160Zm440 0h160v-160H620v160Z\"/>\n",
              "  </svg>\n",
              "    </button>\n",
              "\n",
              "  <style>\n",
              "    .colab-df-container {\n",
              "      display:flex;\n",
              "      gap: 12px;\n",
              "    }\n",
              "\n",
              "    .colab-df-convert {\n",
              "      background-color: #E8F0FE;\n",
              "      border: none;\n",
              "      border-radius: 50%;\n",
              "      cursor: pointer;\n",
              "      display: none;\n",
              "      fill: #1967D2;\n",
              "      height: 32px;\n",
              "      padding: 0 0 0 0;\n",
              "      width: 32px;\n",
              "    }\n",
              "\n",
              "    .colab-df-convert:hover {\n",
              "      background-color: #E2EBFA;\n",
              "      box-shadow: 0px 1px 2px rgba(60, 64, 67, 0.3), 0px 1px 3px 1px rgba(60, 64, 67, 0.15);\n",
              "      fill: #174EA6;\n",
              "    }\n",
              "\n",
              "    .colab-df-buttons div {\n",
              "      margin-bottom: 4px;\n",
              "    }\n",
              "\n",
              "    [theme=dark] .colab-df-convert {\n",
              "      background-color: #3B4455;\n",
              "      fill: #D2E3FC;\n",
              "    }\n",
              "\n",
              "    [theme=dark] .colab-df-convert:hover {\n",
              "      background-color: #434B5C;\n",
              "      box-shadow: 0px 1px 3px 1px rgba(0, 0, 0, 0.15);\n",
              "      filter: drop-shadow(0px 1px 2px rgba(0, 0, 0, 0.3));\n",
              "      fill: #FFFFFF;\n",
              "    }\n",
              "  </style>\n",
              "\n",
              "    <script>\n",
              "      const buttonEl =\n",
              "        document.querySelector('#df-e3cdd73d-66d7-4a1c-8d2c-2c04e8dc92e4 button.colab-df-convert');\n",
              "      buttonEl.style.display =\n",
              "        google.colab.kernel.accessAllowed ? 'block' : 'none';\n",
              "\n",
              "      async function convertToInteractive(key) {\n",
              "        const element = document.querySelector('#df-e3cdd73d-66d7-4a1c-8d2c-2c04e8dc92e4');\n",
              "        const dataTable =\n",
              "          await google.colab.kernel.invokeFunction('convertToInteractive',\n",
              "                                                    [key], {});\n",
              "        if (!dataTable) return;\n",
              "\n",
              "        const docLinkHtml = 'Like what you see? Visit the ' +\n",
              "          '<a target=\"_blank\" href=https://colab.research.google.com/notebooks/data_table.ipynb>data table notebook</a>'\n",
              "          + ' to learn more about interactive tables.';\n",
              "        element.innerHTML = '';\n",
              "        dataTable['output_type'] = 'display_data';\n",
              "        await google.colab.output.renderOutput(dataTable, element);\n",
              "        const docLink = document.createElement('div');\n",
              "        docLink.innerHTML = docLinkHtml;\n",
              "        element.appendChild(docLink);\n",
              "      }\n",
              "    </script>\n",
              "  </div>\n",
              "\n",
              "\n",
              "<div id=\"df-75ea4555-d84a-42bd-b607-7a93afd02ff2\">\n",
              "  <button class=\"colab-df-quickchart\" onclick=\"quickchart('df-75ea4555-d84a-42bd-b607-7a93afd02ff2')\"\n",
              "            title=\"Suggest charts\"\n",
              "            style=\"display:none;\">\n",
              "\n",
              "<svg xmlns=\"http://www.w3.org/2000/svg\" height=\"24px\"viewBox=\"0 0 24 24\"\n",
              "     width=\"24px\">\n",
              "    <g>\n",
              "        <path d=\"M19 3H5c-1.1 0-2 .9-2 2v14c0 1.1.9 2 2 2h14c1.1 0 2-.9 2-2V5c0-1.1-.9-2-2-2zM9 17H7v-7h2v7zm4 0h-2V7h2v10zm4 0h-2v-4h2v4z\"/>\n",
              "    </g>\n",
              "</svg>\n",
              "  </button>\n",
              "\n",
              "<style>\n",
              "  .colab-df-quickchart {\n",
              "      --bg-color: #E8F0FE;\n",
              "      --fill-color: #1967D2;\n",
              "      --hover-bg-color: #E2EBFA;\n",
              "      --hover-fill-color: #174EA6;\n",
              "      --disabled-fill-color: #AAA;\n",
              "      --disabled-bg-color: #DDD;\n",
              "  }\n",
              "\n",
              "  [theme=dark] .colab-df-quickchart {\n",
              "      --bg-color: #3B4455;\n",
              "      --fill-color: #D2E3FC;\n",
              "      --hover-bg-color: #434B5C;\n",
              "      --hover-fill-color: #FFFFFF;\n",
              "      --disabled-bg-color: #3B4455;\n",
              "      --disabled-fill-color: #666;\n",
              "  }\n",
              "\n",
              "  .colab-df-quickchart {\n",
              "    background-color: var(--bg-color);\n",
              "    border: none;\n",
              "    border-radius: 50%;\n",
              "    cursor: pointer;\n",
              "    display: none;\n",
              "    fill: var(--fill-color);\n",
              "    height: 32px;\n",
              "    padding: 0;\n",
              "    width: 32px;\n",
              "  }\n",
              "\n",
              "  .colab-df-quickchart:hover {\n",
              "    background-color: var(--hover-bg-color);\n",
              "    box-shadow: 0 1px 2px rgba(60, 64, 67, 0.3), 0 1px 3px 1px rgba(60, 64, 67, 0.15);\n",
              "    fill: var(--button-hover-fill-color);\n",
              "  }\n",
              "\n",
              "  .colab-df-quickchart-complete:disabled,\n",
              "  .colab-df-quickchart-complete:disabled:hover {\n",
              "    background-color: var(--disabled-bg-color);\n",
              "    fill: var(--disabled-fill-color);\n",
              "    box-shadow: none;\n",
              "  }\n",
              "\n",
              "  .colab-df-spinner {\n",
              "    border: 2px solid var(--fill-color);\n",
              "    border-color: transparent;\n",
              "    border-bottom-color: var(--fill-color);\n",
              "    animation:\n",
              "      spin 1s steps(1) infinite;\n",
              "  }\n",
              "\n",
              "  @keyframes spin {\n",
              "    0% {\n",
              "      border-color: transparent;\n",
              "      border-bottom-color: var(--fill-color);\n",
              "      border-left-color: var(--fill-color);\n",
              "    }\n",
              "    20% {\n",
              "      border-color: transparent;\n",
              "      border-left-color: var(--fill-color);\n",
              "      border-top-color: var(--fill-color);\n",
              "    }\n",
              "    30% {\n",
              "      border-color: transparent;\n",
              "      border-left-color: var(--fill-color);\n",
              "      border-top-color: var(--fill-color);\n",
              "      border-right-color: var(--fill-color);\n",
              "    }\n",
              "    40% {\n",
              "      border-color: transparent;\n",
              "      border-right-color: var(--fill-color);\n",
              "      border-top-color: var(--fill-color);\n",
              "    }\n",
              "    60% {\n",
              "      border-color: transparent;\n",
              "      border-right-color: var(--fill-color);\n",
              "    }\n",
              "    80% {\n",
              "      border-color: transparent;\n",
              "      border-right-color: var(--fill-color);\n",
              "      border-bottom-color: var(--fill-color);\n",
              "    }\n",
              "    90% {\n",
              "      border-color: transparent;\n",
              "      border-bottom-color: var(--fill-color);\n",
              "    }\n",
              "  }\n",
              "</style>\n",
              "\n",
              "  <script>\n",
              "    async function quickchart(key) {\n",
              "      const quickchartButtonEl =\n",
              "        document.querySelector('#' + key + ' button');\n",
              "      quickchartButtonEl.disabled = true;  // To prevent multiple clicks.\n",
              "      quickchartButtonEl.classList.add('colab-df-spinner');\n",
              "      try {\n",
              "        const charts = await google.colab.kernel.invokeFunction(\n",
              "            'suggestCharts', [key], {});\n",
              "      } catch (error) {\n",
              "        console.error('Error during call to suggestCharts:', error);\n",
              "      }\n",
              "      quickchartButtonEl.classList.remove('colab-df-spinner');\n",
              "      quickchartButtonEl.classList.add('colab-df-quickchart-complete');\n",
              "    }\n",
              "    (() => {\n",
              "      let quickchartButtonEl =\n",
              "        document.querySelector('#df-75ea4555-d84a-42bd-b607-7a93afd02ff2 button');\n",
              "      quickchartButtonEl.style.display =\n",
              "        google.colab.kernel.accessAllowed ? 'block' : 'none';\n",
              "    })();\n",
              "  </script>\n",
              "</div>\n",
              "\n",
              "    </div>\n",
              "  </div>\n"
            ],
            "application/vnd.google.colaboratory.intrinsic+json": {
              "type": "dataframe",
              "variable_name": "df"
            }
          },
          "metadata": {},
          "execution_count": 2
        }
      ]
    },
    {
      "cell_type": "code",
      "source": [
        "# @title Declarar vetor de recursos e variável de destino\n",
        "\n",
        "# Codifica os rótulos das classes\n",
        "encoder = LabelEncoder()\n",
        "X = df.drop(['label'], axis=1)\n",
        "y = encoder.fit_transform(df['label'])\n"
      ],
      "metadata": {
        "cellView": "form",
        "id": "ZOdEq3UhHUMX"
      },
      "execution_count": null,
      "outputs": []
    },
    {
      "cell_type": "code",
      "source": [
        "# @title Dividir os dados em conjuntos de treino e teste\n",
        "\n",
        "# Divide os dados em conjuntos de treinamento e teste\n",
        "X_train, X_test, y_train, y_test = train_test_split(\n",
        "    X, y, test_size=0.2, random_state=0, stratify=y\n",
        "    )\n",
        "\n",
        "# Exibindo as formas dos conjuntos de dados resultantes\n",
        "X_train.shape, X_test.shape\n"
      ],
      "metadata": {
        "cellView": "form",
        "id": "_-JwT6TVHgWO",
        "colab": {
          "base_uri": "https://localhost:8080/"
        },
        "outputId": "10bc9c4d-340d-478b-dfec-6bc6847ae953"
      },
      "execution_count": null,
      "outputs": [
        {
          "output_type": "execute_result",
          "data": {
            "text/plain": [
              "((3519, 34), (880, 34))"
            ]
          },
          "metadata": {},
          "execution_count": 4
        }
      ]
    },
    {
      "cell_type": "code",
      "source": [
        "# @title Dimensionamento de recursos\n",
        "\n",
        "# Obtém os nomes das colunas do conjunto de treinamento\n",
        "cols = X_train.columns\n",
        "\n",
        "# Inicializa o escalador\n",
        "scaler = StandardScaler()\n",
        "\n",
        "# Ajusta e transforma os dados de treinamento\n",
        "X_train = scaler.fit_transform(X_train)\n",
        "\n",
        "# Apenas transforma os dados de teste\n",
        "X_test = scaler.transform(X_test)\n",
        "\n",
        "# Converte as matrizes transformadas de volta para DataFrames\n",
        "X_train = pd.DataFrame(X_train, columns=[cols])\n",
        "X_test = pd.DataFrame(X_test, columns=[cols])\n",
        "\n",
        "# Exibe a descrição do conjunto de treinamento\n",
        "X_train.describe()\n"
      ],
      "metadata": {
        "cellView": "form",
        "id": "8ltBmgJzHq_x",
        "colab": {
          "base_uri": "https://localhost:8080/",
          "height": 350
        },
        "outputId": "33ac6e51-2673-4db5-e5ff-33fbdd228de2"
      },
      "execution_count": null,
      "outputs": [
        {
          "output_type": "execute_result",
          "data": {
            "text/plain": [
              "             nose_x        nose_y    left_eye_x    left_eye_y   right_eye_x  \\\n",
              "count  3.519000e+03  3.519000e+03  3.519000e+03  3.519000e+03  3.519000e+03   \n",
              "mean   7.773770e-17 -1.463892e-16  4.543112e-17 -1.105491e-16  1.292263e-16   \n",
              "std    1.000142e+00  1.000142e+00  1.000142e+00  1.000142e+00  1.000142e+00   \n",
              "min   -2.189033e+00 -1.760384e+00 -1.826137e+00 -1.450002e+00 -1.798481e+00   \n",
              "25%   -3.746312e-01 -4.854333e-01 -4.713946e-01 -5.268926e-01 -4.646861e-01   \n",
              "50%    2.350892e-01 -2.449408e-02  3.275147e-01 -1.553744e-02  2.893551e-01   \n",
              "75%    5.892756e-01  4.535499e-01  6.412341e-01  4.549366e-01  6.138073e-01   \n",
              "max    2.378992e+00  3.280116e+00  2.213212e+00  3.345447e+00  2.462568e+00   \n",
              "\n",
              "        right_eye_y    left_ear_x    left_ear_y   right_ear_x   right_ear_y  \\\n",
              "count  3.519000e+03  3.519000e+03  3.519000e+03  3.519000e+03  3.519000e+03   \n",
              "mean   1.019676e-16 -1.110539e-17  1.509323e-16  3.331616e-17 -1.352838e-16   \n",
              "std    1.000142e+00  1.000142e+00  1.000142e+00  1.000142e+00  1.000142e+00   \n",
              "min   -1.443822e+00 -1.437160e+00 -1.205200e+00 -1.369248e+00 -1.189503e+00   \n",
              "25%   -5.366647e-01 -1.437160e+00 -1.205200e+00 -1.369248e+00 -1.189503e+00   \n",
              "50%   -8.003666e-03  4.094244e-01  7.165143e-02  3.537371e-01  9.706374e-02   \n",
              "75%    4.445039e-01  7.484207e-01  5.186524e-01  7.089938e-01  5.574892e-01   \n",
              "max    3.263857e+00  2.041416e+00  3.469585e+00  2.517509e+00  3.388116e+00   \n",
              "\n",
              "       ...   right_hip_x   right_hip_y   left_knee_x   left_knee_y  \\\n",
              "count  ...  3.519000e+03  3.519000e+03  3.519000e+03  3.519000e+03   \n",
              "mean   ... -1.877820e-16 -3.230658e-17 -3.634490e-17  1.822293e-16   \n",
              "std    ...  1.000142e+00  1.000142e+00  1.000142e+00  1.000142e+00   \n",
              "min    ... -1.720134e+00 -1.685485e+00 -1.263032e+00 -1.291526e+00   \n",
              "25%    ... -4.988759e-01 -3.749899e-01 -1.263032e+00 -1.291526e+00   \n",
              "50%    ...  2.610154e-01  1.050691e-01  2.822419e-01  3.847703e-01   \n",
              "75%    ...  6.528369e-01  6.653644e-01  7.976319e-01  8.017946e-01   \n",
              "max    ...  2.618682e+00  1.691074e+00  2.146218e+00  1.679118e+00   \n",
              "\n",
              "       right_knee_x  right_knee_y  left_ankle_x  left_ankle_y right_ankle_x  \\\n",
              "count  3.519000e+03  3.519000e+03  3.519000e+03  3.519000e+03  3.519000e+03   \n",
              "mean  -9.086224e-17  5.300297e-17  3.432574e-17 -1.630472e-16  1.837436e-16   \n",
              "std    1.000142e+00  1.000142e+00  1.000142e+00  1.000142e+00  1.000142e+00   \n",
              "min   -1.224944e+00 -1.287492e+00 -9.868825e-01 -1.035694e+00 -9.652513e-01   \n",
              "25%   -1.224944e+00 -1.287492e+00 -9.868825e-01 -1.035694e+00 -9.652513e-01   \n",
              "50%    2.137727e-01  3.801177e-01 -4.072963e-02  1.241175e-01 -1.312352e-01   \n",
              "75%    8.221094e-01  7.974484e-01  8.384733e-01  1.018667e+00  8.557725e-01   \n",
              "max    2.560717e+00  1.652077e+00  2.293914e+00  1.566192e+00  2.549634e+00   \n",
              "\n",
              "      right_ankle_y  \n",
              "count  3.519000e+03  \n",
              "mean  -6.764189e-17  \n",
              "std    1.000142e+00  \n",
              "min   -1.034346e+00  \n",
              "25%   -1.034346e+00  \n",
              "50%    1.074009e-01  \n",
              "75%    1.023329e+00  \n",
              "max    1.561527e+00  \n",
              "\n",
              "[8 rows x 34 columns]"
            ],
            "text/html": [
              "\n",
              "  <div id=\"df-415097a6-634b-4209-85c8-0be4b3c14ad4\" class=\"colab-df-container\">\n",
              "    <div>\n",
              "<style scoped>\n",
              "    .dataframe tbody tr th:only-of-type {\n",
              "        vertical-align: middle;\n",
              "    }\n",
              "\n",
              "    .dataframe tbody tr th {\n",
              "        vertical-align: top;\n",
              "    }\n",
              "\n",
              "    .dataframe thead tr th {\n",
              "        text-align: left;\n",
              "    }\n",
              "</style>\n",
              "<table border=\"1\" class=\"dataframe\">\n",
              "  <thead>\n",
              "    <tr>\n",
              "      <th></th>\n",
              "      <th>nose_x</th>\n",
              "      <th>nose_y</th>\n",
              "      <th>left_eye_x</th>\n",
              "      <th>left_eye_y</th>\n",
              "      <th>right_eye_x</th>\n",
              "      <th>right_eye_y</th>\n",
              "      <th>left_ear_x</th>\n",
              "      <th>left_ear_y</th>\n",
              "      <th>right_ear_x</th>\n",
              "      <th>right_ear_y</th>\n",
              "      <th>...</th>\n",
              "      <th>right_hip_x</th>\n",
              "      <th>right_hip_y</th>\n",
              "      <th>left_knee_x</th>\n",
              "      <th>left_knee_y</th>\n",
              "      <th>right_knee_x</th>\n",
              "      <th>right_knee_y</th>\n",
              "      <th>left_ankle_x</th>\n",
              "      <th>left_ankle_y</th>\n",
              "      <th>right_ankle_x</th>\n",
              "      <th>right_ankle_y</th>\n",
              "    </tr>\n",
              "  </thead>\n",
              "  <tbody>\n",
              "    <tr>\n",
              "      <th>count</th>\n",
              "      <td>3.519000e+03</td>\n",
              "      <td>3.519000e+03</td>\n",
              "      <td>3.519000e+03</td>\n",
              "      <td>3.519000e+03</td>\n",
              "      <td>3.519000e+03</td>\n",
              "      <td>3.519000e+03</td>\n",
              "      <td>3.519000e+03</td>\n",
              "      <td>3.519000e+03</td>\n",
              "      <td>3.519000e+03</td>\n",
              "      <td>3.519000e+03</td>\n",
              "      <td>...</td>\n",
              "      <td>3.519000e+03</td>\n",
              "      <td>3.519000e+03</td>\n",
              "      <td>3.519000e+03</td>\n",
              "      <td>3.519000e+03</td>\n",
              "      <td>3.519000e+03</td>\n",
              "      <td>3.519000e+03</td>\n",
              "      <td>3.519000e+03</td>\n",
              "      <td>3.519000e+03</td>\n",
              "      <td>3.519000e+03</td>\n",
              "      <td>3.519000e+03</td>\n",
              "    </tr>\n",
              "    <tr>\n",
              "      <th>mean</th>\n",
              "      <td>7.773770e-17</td>\n",
              "      <td>-1.463892e-16</td>\n",
              "      <td>4.543112e-17</td>\n",
              "      <td>-1.105491e-16</td>\n",
              "      <td>1.292263e-16</td>\n",
              "      <td>1.019676e-16</td>\n",
              "      <td>-1.110539e-17</td>\n",
              "      <td>1.509323e-16</td>\n",
              "      <td>3.331616e-17</td>\n",
              "      <td>-1.352838e-16</td>\n",
              "      <td>...</td>\n",
              "      <td>-1.877820e-16</td>\n",
              "      <td>-3.230658e-17</td>\n",
              "      <td>-3.634490e-17</td>\n",
              "      <td>1.822293e-16</td>\n",
              "      <td>-9.086224e-17</td>\n",
              "      <td>5.300297e-17</td>\n",
              "      <td>3.432574e-17</td>\n",
              "      <td>-1.630472e-16</td>\n",
              "      <td>1.837436e-16</td>\n",
              "      <td>-6.764189e-17</td>\n",
              "    </tr>\n",
              "    <tr>\n",
              "      <th>std</th>\n",
              "      <td>1.000142e+00</td>\n",
              "      <td>1.000142e+00</td>\n",
              "      <td>1.000142e+00</td>\n",
              "      <td>1.000142e+00</td>\n",
              "      <td>1.000142e+00</td>\n",
              "      <td>1.000142e+00</td>\n",
              "      <td>1.000142e+00</td>\n",
              "      <td>1.000142e+00</td>\n",
              "      <td>1.000142e+00</td>\n",
              "      <td>1.000142e+00</td>\n",
              "      <td>...</td>\n",
              "      <td>1.000142e+00</td>\n",
              "      <td>1.000142e+00</td>\n",
              "      <td>1.000142e+00</td>\n",
              "      <td>1.000142e+00</td>\n",
              "      <td>1.000142e+00</td>\n",
              "      <td>1.000142e+00</td>\n",
              "      <td>1.000142e+00</td>\n",
              "      <td>1.000142e+00</td>\n",
              "      <td>1.000142e+00</td>\n",
              "      <td>1.000142e+00</td>\n",
              "    </tr>\n",
              "    <tr>\n",
              "      <th>min</th>\n",
              "      <td>-2.189033e+00</td>\n",
              "      <td>-1.760384e+00</td>\n",
              "      <td>-1.826137e+00</td>\n",
              "      <td>-1.450002e+00</td>\n",
              "      <td>-1.798481e+00</td>\n",
              "      <td>-1.443822e+00</td>\n",
              "      <td>-1.437160e+00</td>\n",
              "      <td>-1.205200e+00</td>\n",
              "      <td>-1.369248e+00</td>\n",
              "      <td>-1.189503e+00</td>\n",
              "      <td>...</td>\n",
              "      <td>-1.720134e+00</td>\n",
              "      <td>-1.685485e+00</td>\n",
              "      <td>-1.263032e+00</td>\n",
              "      <td>-1.291526e+00</td>\n",
              "      <td>-1.224944e+00</td>\n",
              "      <td>-1.287492e+00</td>\n",
              "      <td>-9.868825e-01</td>\n",
              "      <td>-1.035694e+00</td>\n",
              "      <td>-9.652513e-01</td>\n",
              "      <td>-1.034346e+00</td>\n",
              "    </tr>\n",
              "    <tr>\n",
              "      <th>25%</th>\n",
              "      <td>-3.746312e-01</td>\n",
              "      <td>-4.854333e-01</td>\n",
              "      <td>-4.713946e-01</td>\n",
              "      <td>-5.268926e-01</td>\n",
              "      <td>-4.646861e-01</td>\n",
              "      <td>-5.366647e-01</td>\n",
              "      <td>-1.437160e+00</td>\n",
              "      <td>-1.205200e+00</td>\n",
              "      <td>-1.369248e+00</td>\n",
              "      <td>-1.189503e+00</td>\n",
              "      <td>...</td>\n",
              "      <td>-4.988759e-01</td>\n",
              "      <td>-3.749899e-01</td>\n",
              "      <td>-1.263032e+00</td>\n",
              "      <td>-1.291526e+00</td>\n",
              "      <td>-1.224944e+00</td>\n",
              "      <td>-1.287492e+00</td>\n",
              "      <td>-9.868825e-01</td>\n",
              "      <td>-1.035694e+00</td>\n",
              "      <td>-9.652513e-01</td>\n",
              "      <td>-1.034346e+00</td>\n",
              "    </tr>\n",
              "    <tr>\n",
              "      <th>50%</th>\n",
              "      <td>2.350892e-01</td>\n",
              "      <td>-2.449408e-02</td>\n",
              "      <td>3.275147e-01</td>\n",
              "      <td>-1.553744e-02</td>\n",
              "      <td>2.893551e-01</td>\n",
              "      <td>-8.003666e-03</td>\n",
              "      <td>4.094244e-01</td>\n",
              "      <td>7.165143e-02</td>\n",
              "      <td>3.537371e-01</td>\n",
              "      <td>9.706374e-02</td>\n",
              "      <td>...</td>\n",
              "      <td>2.610154e-01</td>\n",
              "      <td>1.050691e-01</td>\n",
              "      <td>2.822419e-01</td>\n",
              "      <td>3.847703e-01</td>\n",
              "      <td>2.137727e-01</td>\n",
              "      <td>3.801177e-01</td>\n",
              "      <td>-4.072963e-02</td>\n",
              "      <td>1.241175e-01</td>\n",
              "      <td>-1.312352e-01</td>\n",
              "      <td>1.074009e-01</td>\n",
              "    </tr>\n",
              "    <tr>\n",
              "      <th>75%</th>\n",
              "      <td>5.892756e-01</td>\n",
              "      <td>4.535499e-01</td>\n",
              "      <td>6.412341e-01</td>\n",
              "      <td>4.549366e-01</td>\n",
              "      <td>6.138073e-01</td>\n",
              "      <td>4.445039e-01</td>\n",
              "      <td>7.484207e-01</td>\n",
              "      <td>5.186524e-01</td>\n",
              "      <td>7.089938e-01</td>\n",
              "      <td>5.574892e-01</td>\n",
              "      <td>...</td>\n",
              "      <td>6.528369e-01</td>\n",
              "      <td>6.653644e-01</td>\n",
              "      <td>7.976319e-01</td>\n",
              "      <td>8.017946e-01</td>\n",
              "      <td>8.221094e-01</td>\n",
              "      <td>7.974484e-01</td>\n",
              "      <td>8.384733e-01</td>\n",
              "      <td>1.018667e+00</td>\n",
              "      <td>8.557725e-01</td>\n",
              "      <td>1.023329e+00</td>\n",
              "    </tr>\n",
              "    <tr>\n",
              "      <th>max</th>\n",
              "      <td>2.378992e+00</td>\n",
              "      <td>3.280116e+00</td>\n",
              "      <td>2.213212e+00</td>\n",
              "      <td>3.345447e+00</td>\n",
              "      <td>2.462568e+00</td>\n",
              "      <td>3.263857e+00</td>\n",
              "      <td>2.041416e+00</td>\n",
              "      <td>3.469585e+00</td>\n",
              "      <td>2.517509e+00</td>\n",
              "      <td>3.388116e+00</td>\n",
              "      <td>...</td>\n",
              "      <td>2.618682e+00</td>\n",
              "      <td>1.691074e+00</td>\n",
              "      <td>2.146218e+00</td>\n",
              "      <td>1.679118e+00</td>\n",
              "      <td>2.560717e+00</td>\n",
              "      <td>1.652077e+00</td>\n",
              "      <td>2.293914e+00</td>\n",
              "      <td>1.566192e+00</td>\n",
              "      <td>2.549634e+00</td>\n",
              "      <td>1.561527e+00</td>\n",
              "    </tr>\n",
              "  </tbody>\n",
              "</table>\n",
              "<p>8 rows × 34 columns</p>\n",
              "</div>\n",
              "    <div class=\"colab-df-buttons\">\n",
              "\n",
              "  <div class=\"colab-df-container\">\n",
              "    <button class=\"colab-df-convert\" onclick=\"convertToInteractive('df-415097a6-634b-4209-85c8-0be4b3c14ad4')\"\n",
              "            title=\"Convert this dataframe to an interactive table.\"\n",
              "            style=\"display:none;\">\n",
              "\n",
              "  <svg xmlns=\"http://www.w3.org/2000/svg\" height=\"24px\" viewBox=\"0 -960 960 960\">\n",
              "    <path d=\"M120-120v-720h720v720H120Zm60-500h600v-160H180v160Zm220 220h160v-160H400v160Zm0 220h160v-160H400v160ZM180-400h160v-160H180v160Zm440 0h160v-160H620v160ZM180-180h160v-160H180v160Zm440 0h160v-160H620v160Z\"/>\n",
              "  </svg>\n",
              "    </button>\n",
              "\n",
              "  <style>\n",
              "    .colab-df-container {\n",
              "      display:flex;\n",
              "      gap: 12px;\n",
              "    }\n",
              "\n",
              "    .colab-df-convert {\n",
              "      background-color: #E8F0FE;\n",
              "      border: none;\n",
              "      border-radius: 50%;\n",
              "      cursor: pointer;\n",
              "      display: none;\n",
              "      fill: #1967D2;\n",
              "      height: 32px;\n",
              "      padding: 0 0 0 0;\n",
              "      width: 32px;\n",
              "    }\n",
              "\n",
              "    .colab-df-convert:hover {\n",
              "      background-color: #E2EBFA;\n",
              "      box-shadow: 0px 1px 2px rgba(60, 64, 67, 0.3), 0px 1px 3px 1px rgba(60, 64, 67, 0.15);\n",
              "      fill: #174EA6;\n",
              "    }\n",
              "\n",
              "    .colab-df-buttons div {\n",
              "      margin-bottom: 4px;\n",
              "    }\n",
              "\n",
              "    [theme=dark] .colab-df-convert {\n",
              "      background-color: #3B4455;\n",
              "      fill: #D2E3FC;\n",
              "    }\n",
              "\n",
              "    [theme=dark] .colab-df-convert:hover {\n",
              "      background-color: #434B5C;\n",
              "      box-shadow: 0px 1px 3px 1px rgba(0, 0, 0, 0.15);\n",
              "      filter: drop-shadow(0px 1px 2px rgba(0, 0, 0, 0.3));\n",
              "      fill: #FFFFFF;\n",
              "    }\n",
              "  </style>\n",
              "\n",
              "    <script>\n",
              "      const buttonEl =\n",
              "        document.querySelector('#df-415097a6-634b-4209-85c8-0be4b3c14ad4 button.colab-df-convert');\n",
              "      buttonEl.style.display =\n",
              "        google.colab.kernel.accessAllowed ? 'block' : 'none';\n",
              "\n",
              "      async function convertToInteractive(key) {\n",
              "        const element = document.querySelector('#df-415097a6-634b-4209-85c8-0be4b3c14ad4');\n",
              "        const dataTable =\n",
              "          await google.colab.kernel.invokeFunction('convertToInteractive',\n",
              "                                                    [key], {});\n",
              "        if (!dataTable) return;\n",
              "\n",
              "        const docLinkHtml = 'Like what you see? Visit the ' +\n",
              "          '<a target=\"_blank\" href=https://colab.research.google.com/notebooks/data_table.ipynb>data table notebook</a>'\n",
              "          + ' to learn more about interactive tables.';\n",
              "        element.innerHTML = '';\n",
              "        dataTable['output_type'] = 'display_data';\n",
              "        await google.colab.output.renderOutput(dataTable, element);\n",
              "        const docLink = document.createElement('div');\n",
              "        docLink.innerHTML = docLinkHtml;\n",
              "        element.appendChild(docLink);\n",
              "      }\n",
              "    </script>\n",
              "  </div>\n",
              "\n",
              "\n",
              "<div id=\"df-f8721adc-87db-412c-8c56-36f721104f71\">\n",
              "  <button class=\"colab-df-quickchart\" onclick=\"quickchart('df-f8721adc-87db-412c-8c56-36f721104f71')\"\n",
              "            title=\"Suggest charts\"\n",
              "            style=\"display:none;\">\n",
              "\n",
              "<svg xmlns=\"http://www.w3.org/2000/svg\" height=\"24px\"viewBox=\"0 0 24 24\"\n",
              "     width=\"24px\">\n",
              "    <g>\n",
              "        <path d=\"M19 3H5c-1.1 0-2 .9-2 2v14c0 1.1.9 2 2 2h14c1.1 0 2-.9 2-2V5c0-1.1-.9-2-2-2zM9 17H7v-7h2v7zm4 0h-2V7h2v10zm4 0h-2v-4h2v4z\"/>\n",
              "    </g>\n",
              "</svg>\n",
              "  </button>\n",
              "\n",
              "<style>\n",
              "  .colab-df-quickchart {\n",
              "      --bg-color: #E8F0FE;\n",
              "      --fill-color: #1967D2;\n",
              "      --hover-bg-color: #E2EBFA;\n",
              "      --hover-fill-color: #174EA6;\n",
              "      --disabled-fill-color: #AAA;\n",
              "      --disabled-bg-color: #DDD;\n",
              "  }\n",
              "\n",
              "  [theme=dark] .colab-df-quickchart {\n",
              "      --bg-color: #3B4455;\n",
              "      --fill-color: #D2E3FC;\n",
              "      --hover-bg-color: #434B5C;\n",
              "      --hover-fill-color: #FFFFFF;\n",
              "      --disabled-bg-color: #3B4455;\n",
              "      --disabled-fill-color: #666;\n",
              "  }\n",
              "\n",
              "  .colab-df-quickchart {\n",
              "    background-color: var(--bg-color);\n",
              "    border: none;\n",
              "    border-radius: 50%;\n",
              "    cursor: pointer;\n",
              "    display: none;\n",
              "    fill: var(--fill-color);\n",
              "    height: 32px;\n",
              "    padding: 0;\n",
              "    width: 32px;\n",
              "  }\n",
              "\n",
              "  .colab-df-quickchart:hover {\n",
              "    background-color: var(--hover-bg-color);\n",
              "    box-shadow: 0 1px 2px rgba(60, 64, 67, 0.3), 0 1px 3px 1px rgba(60, 64, 67, 0.15);\n",
              "    fill: var(--button-hover-fill-color);\n",
              "  }\n",
              "\n",
              "  .colab-df-quickchart-complete:disabled,\n",
              "  .colab-df-quickchart-complete:disabled:hover {\n",
              "    background-color: var(--disabled-bg-color);\n",
              "    fill: var(--disabled-fill-color);\n",
              "    box-shadow: none;\n",
              "  }\n",
              "\n",
              "  .colab-df-spinner {\n",
              "    border: 2px solid var(--fill-color);\n",
              "    border-color: transparent;\n",
              "    border-bottom-color: var(--fill-color);\n",
              "    animation:\n",
              "      spin 1s steps(1) infinite;\n",
              "  }\n",
              "\n",
              "  @keyframes spin {\n",
              "    0% {\n",
              "      border-color: transparent;\n",
              "      border-bottom-color: var(--fill-color);\n",
              "      border-left-color: var(--fill-color);\n",
              "    }\n",
              "    20% {\n",
              "      border-color: transparent;\n",
              "      border-left-color: var(--fill-color);\n",
              "      border-top-color: var(--fill-color);\n",
              "    }\n",
              "    30% {\n",
              "      border-color: transparent;\n",
              "      border-left-color: var(--fill-color);\n",
              "      border-top-color: var(--fill-color);\n",
              "      border-right-color: var(--fill-color);\n",
              "    }\n",
              "    40% {\n",
              "      border-color: transparent;\n",
              "      border-right-color: var(--fill-color);\n",
              "      border-top-color: var(--fill-color);\n",
              "    }\n",
              "    60% {\n",
              "      border-color: transparent;\n",
              "      border-right-color: var(--fill-color);\n",
              "    }\n",
              "    80% {\n",
              "      border-color: transparent;\n",
              "      border-right-color: var(--fill-color);\n",
              "      border-bottom-color: var(--fill-color);\n",
              "    }\n",
              "    90% {\n",
              "      border-color: transparent;\n",
              "      border-bottom-color: var(--fill-color);\n",
              "    }\n",
              "  }\n",
              "</style>\n",
              "\n",
              "  <script>\n",
              "    async function quickchart(key) {\n",
              "      const quickchartButtonEl =\n",
              "        document.querySelector('#' + key + ' button');\n",
              "      quickchartButtonEl.disabled = true;  // To prevent multiple clicks.\n",
              "      quickchartButtonEl.classList.add('colab-df-spinner');\n",
              "      try {\n",
              "        const charts = await google.colab.kernel.invokeFunction(\n",
              "            'suggestCharts', [key], {});\n",
              "      } catch (error) {\n",
              "        console.error('Error during call to suggestCharts:', error);\n",
              "      }\n",
              "      quickchartButtonEl.classList.remove('colab-df-spinner');\n",
              "      quickchartButtonEl.classList.add('colab-df-quickchart-complete');\n",
              "    }\n",
              "    (() => {\n",
              "      let quickchartButtonEl =\n",
              "        document.querySelector('#df-f8721adc-87db-412c-8c56-36f721104f71 button');\n",
              "      quickchartButtonEl.style.display =\n",
              "        google.colab.kernel.accessAllowed ? 'block' : 'none';\n",
              "    })();\n",
              "  </script>\n",
              "</div>\n",
              "\n",
              "    </div>\n",
              "  </div>\n"
            ],
            "application/vnd.google.colaboratory.intrinsic+json": {
              "type": "dataframe"
            }
          },
          "metadata": {},
          "execution_count": 5
        }
      ]
    },
    {
      "cell_type": "code",
      "source": [
        "# @title Executar SVM com hiperparâmetros padrão\n",
        "\n",
        "# Instanciar classificador com hiperparâmetros padrão\n",
        "svc_padrao = SVC()\n",
        "\n",
        "# Ajustar o classificador ao conjunto de treino\n",
        "svc_padrao.fit(X_train, y_train)\n",
        "\n",
        "# Fazer previsões no conjunto de testes\n",
        "y_pred = svc_padrao.predict(X_test)\n",
        "\n",
        "print('Acurácia: {0:0.4f}'. format(accuracy_score(y_test, y_pred)))\n"
      ],
      "metadata": {
        "cellView": "form",
        "id": "vjhw-c-RIGmO",
        "colab": {
          "base_uri": "https://localhost:8080/"
        },
        "outputId": "eaf39d67-adec-40e0-e205-f2a8fc1514e7"
      },
      "execution_count": null,
      "outputs": [
        {
          "output_type": "stream",
          "name": "stdout",
          "text": [
            "Acurácia: 0.9125\n"
          ]
        }
      ]
    },
    {
      "cell_type": "code",
      "source": [
        "# @title Métricas de classificação\n",
        "\n",
        "print(classification_report(y_test, y_pred))\n"
      ],
      "metadata": {
        "cellView": "form",
        "id": "upCvfU8aQ0J2",
        "colab": {
          "base_uri": "https://localhost:8080/"
        },
        "outputId": "419bf694-1969-4b18-d151-2ab1be8bb173"
      },
      "execution_count": null,
      "outputs": [
        {
          "output_type": "stream",
          "name": "stdout",
          "text": [
            "              precision    recall  f1-score   support\n",
            "\n",
            "           0       0.96      0.88      0.92       176\n",
            "           1       0.80      0.95      0.87       176\n",
            "           2       0.95      0.97      0.96       176\n",
            "           3       0.92      0.94      0.93       176\n",
            "           4       0.97      0.82      0.89       176\n",
            "\n",
            "    accuracy                           0.91       880\n",
            "   macro avg       0.92      0.91      0.91       880\n",
            "weighted avg       0.92      0.91      0.91       880\n",
            "\n"
          ]
        }
      ]
    },
    {
      "cell_type": "code",
      "source": [
        "# @title Executar o SVM com o kernel rbf e C=100.0\n",
        "\n",
        "# Instanciar classificador com kernel rbf e C=100\n",
        "svc100 = SVC(C=100.0)\n",
        "\n",
        "svc100.fit(X_train, y_train)\n",
        "\n",
        "y_pred = svc100.predict(X_test)\n",
        "\n",
        "print('Acurácia: {0:0.4f}'. format(accuracy_score(y_test, y_pred)))\n"
      ],
      "metadata": {
        "cellView": "form",
        "id": "Clc4-mLVIuMO",
        "colab": {
          "base_uri": "https://localhost:8080/"
        },
        "outputId": "bb41dbdc-2fae-4fe7-a634-5404808f1819"
      },
      "execution_count": null,
      "outputs": [
        {
          "output_type": "stream",
          "name": "stdout",
          "text": [
            "Acurácia: 0.9489\n"
          ]
        }
      ]
    },
    {
      "cell_type": "code",
      "source": [
        "# @title Matriz de confusão\n",
        "\n",
        "# Calcular a matriz de confusão\n",
        "cm = confusion_matrix(y_test, y_pred)\n",
        "\n",
        "# Criar um DataFrame a partir da matriz de confusão\n",
        "cm_matrix = pd.DataFrame(data=cm, columns=df['label'].unique(), index=df['label'].unique())\n",
        "\n",
        "# Plotar a matriz de confusão\n",
        "sns.heatmap(cm_matrix, annot=True, fmt='d', cmap='YlGnBu')\n"
      ],
      "metadata": {
        "cellView": "form",
        "id": "gXuoucaKysPr",
        "colab": {
          "base_uri": "https://localhost:8080/",
          "height": 544
        },
        "outputId": "7aa05bda-fb92-4d4d-e95f-99c557a3d4fb"
      },
      "execution_count": null,
      "outputs": [
        {
          "output_type": "execute_result",
          "data": {
            "text/plain": [
              "<Axes: >"
            ]
          },
          "metadata": {},
          "execution_count": 9
        },
        {
          "output_type": "display_data",
          "data": {
            "text/plain": [
              "<Figure size 640x480 with 2 Axes>"
            ],
            "image/png": "[encoded data removed]"
          },
          "metadata": {}
        }
      ]
    },
    {
      "cell_type": "code",
      "source": [
        "# @title Métricas de classificação\n",
        "\n",
        "print(classification_report(y_test, y_pred))\n"
      ],
      "metadata": {
        "cellView": "form",
        "id": "oLemrB9LQ-tl",
        "colab": {
          "base_uri": "https://localhost:8080/"
        },
        "outputId": "6770cffb-8e19-429f-d159-f10c91803107"
      },
      "execution_count": null,
      "outputs": [
        {
          "output_type": "stream",
          "name": "stdout",
          "text": [
            "              precision    recall  f1-score   support\n",
            "\n",
            "           0       0.96      0.93      0.94       176\n",
            "           1       0.91      0.98      0.95       176\n",
            "           2       0.98      0.98      0.98       176\n",
            "           3       0.94      0.95      0.95       176\n",
            "           4       0.94      0.90      0.92       176\n",
            "\n",
            "    accuracy                           0.95       880\n",
            "   macro avg       0.95      0.95      0.95       880\n",
            "weighted avg       0.95      0.95      0.95       880\n",
            "\n"
          ]
        }
      ]
    },
    {
      "cell_type": "code",
      "source": [
        "# @title Executar o SVM com o kernel rbf e C=1000.0\n",
        "\n",
        "# Instanciar classificador com kernel rbf e C=1000\n",
        "svc1000 = SVC(C=1000.0)\n",
        "\n",
        "svc1000.fit(X_train, y_train)\n",
        "\n",
        "y_pred = svc1000.predict(X_test)\n",
        "\n",
        "print('Acurácia: {0:0.4f}'. format(accuracy_score(y_test, y_pred)))\n"
      ],
      "metadata": {
        "cellView": "form",
        "id": "zQacdTAPJS8_",
        "colab": {
          "base_uri": "https://localhost:8080/"
        },
        "outputId": "d42ec460-f641-4eff-b151-1e5ae8adf9c7"
      },
      "execution_count": null,
      "outputs": [
        {
          "output_type": "stream",
          "name": "stdout",
          "text": [
            "Acurácia: 0.9432\n"
          ]
        }
      ]
    },
    {
      "cell_type": "code",
      "source": [
        "# @title Matriz de confusão\n",
        "\n",
        "cm = confusion_matrix(y_test, y_pred)\n",
        "\n",
        "cm_matrix = pd.DataFrame(data=cm, columns=df['label'].unique(), index=df['label'].unique())\n",
        "\n",
        "sns.heatmap(cm_matrix, annot=True, fmt='d', cmap='YlGnBu')\n"
      ],
      "metadata": {
        "cellView": "form",
        "id": "dTTFyL3oyyHa",
        "colab": {
          "base_uri": "https://localhost:8080/",
          "height": 544
        },
        "outputId": "44495ff1-e0e9-41ff-be7e-efd861f83437"
      },
      "execution_count": null,
      "outputs": [
        {
          "output_type": "execute_result",
          "data": {
            "text/plain": [
              "<Axes: >"
            ]
          },
          "metadata": {},
          "execution_count": 12
        },
        {
          "output_type": "display_data",
          "data": {
            "text/plain": [
              "<Figure size 640x480 with 2 Axes>"
            ],
            "image/png": "[encoded data removed]"
          },
          "metadata": {}
        }
      ]
    },
    {
      "cell_type": "code",
      "source": [
        "# @title Métricas de classificação\n",
        "\n",
        "print(classification_report(y_test, y_pred))\n"
      ],
      "metadata": {
        "cellView": "form",
        "id": "1tBiqyYPRA9F",
        "colab": {
          "base_uri": "https://localhost:8080/"
        },
        "outputId": "6b35c1d5-5399-4e1c-a6fc-969f882aa2a2"
      },
      "execution_count": null,
      "outputs": [
        {
          "output_type": "stream",
          "name": "stdout",
          "text": [
            "              precision    recall  f1-score   support\n",
            "\n",
            "           0       0.96      0.92      0.94       176\n",
            "           1       0.90      0.96      0.93       176\n",
            "           2       0.98      0.98      0.98       176\n",
            "           3       0.94      0.95      0.95       176\n",
            "           4       0.94      0.90      0.92       176\n",
            "\n",
            "    accuracy                           0.94       880\n",
            "   macro avg       0.94      0.94      0.94       880\n",
            "weighted avg       0.94      0.94      0.94       880\n",
            "\n"
          ]
        }
      ]
    },
    {
      "cell_type": "code",
      "source": [
        "# @title Executar SVM com kernel linear e C=1.0\n",
        "\n",
        "# Instanciar classificador com kernel linear e C=1.0\n",
        "linear_svc = SVC(kernel='linear', C=1.0)\n",
        "\n",
        "linear_svc.fit(X_train, y_train)\n",
        "\n",
        "y_pred = linear_svc.predict(X_test)\n",
        "\n",
        "print('Acurácia: {0:0.4f}'. format(accuracy_score(y_test, y_pred)))\n"
      ],
      "metadata": {
        "cellView": "form",
        "id": "yDGx1b8bJcbb",
        "colab": {
          "base_uri": "https://localhost:8080/"
        },
        "outputId": "d7e771a6-ef0f-4d2d-8940-40ec41a24848"
      },
      "execution_count": null,
      "outputs": [
        {
          "output_type": "stream",
          "name": "stdout",
          "text": [
            "Acurácia: 0.8818\n"
          ]
        }
      ]
    },
    {
      "cell_type": "code",
      "source": [
        "# @title Métricas de classificação\n",
        "\n",
        "print(classification_report(y_test, y_pred))\n"
      ],
      "metadata": {
        "cellView": "form",
        "id": "4PfWfrHGRDbc",
        "colab": {
          "base_uri": "https://localhost:8080/"
        },
        "outputId": "004501d6-0d49-40f5-9c38-c46d9d89da65"
      },
      "execution_count": null,
      "outputs": [
        {
          "output_type": "stream",
          "name": "stdout",
          "text": [
            "              precision    recall  f1-score   support\n",
            "\n",
            "           0       0.82      0.88      0.85       176\n",
            "           1       0.86      0.89      0.88       176\n",
            "           2       0.94      0.94      0.94       176\n",
            "           3       0.87      0.92      0.90       176\n",
            "           4       0.92      0.78      0.85       176\n",
            "\n",
            "    accuracy                           0.88       880\n",
            "   macro avg       0.88      0.88      0.88       880\n",
            "weighted avg       0.88      0.88      0.88       880\n",
            "\n"
          ]
        }
      ]
    },
    {
      "cell_type": "code",
      "source": [
        "# @title Executar SVM com kernel linear e C=100.0\n",
        "\n",
        "# Instanciar classificador com kernel linear e C=100.0\n",
        "linear_svc100 = SVC(kernel='linear', C=100.0)\n",
        "\n",
        "linear_svc100.fit(X_train, y_train)\n",
        "\n",
        "y_pred = linear_svc100.predict(X_test)\n",
        "\n",
        "print('Acurácia: {0:0.4f}'. format(accuracy_score(y_test, y_pred)))\n"
      ],
      "metadata": {
        "cellView": "form",
        "id": "Oy0emAnnJ7sm",
        "colab": {
          "base_uri": "https://localhost:8080/"
        },
        "outputId": "fc821bf4-dd95-44f7-9dca-90114b926229"
      },
      "execution_count": null,
      "outputs": [
        {
          "output_type": "stream",
          "name": "stdout",
          "text": [
            "Acurácia: 0.8841\n"
          ]
        }
      ]
    },
    {
      "cell_type": "code",
      "source": [
        "# @title Métricas de classificação\n",
        "\n",
        "print(classification_report(y_test, y_pred))\n"
      ],
      "metadata": {
        "cellView": "form",
        "id": "0Jnj5-kSRFYU",
        "colab": {
          "base_uri": "https://localhost:8080/"
        },
        "outputId": "7445508c-1f08-467c-91b8-1dda288dd3a1"
      },
      "execution_count": null,
      "outputs": [
        {
          "output_type": "stream",
          "name": "stdout",
          "text": [
            "              precision    recall  f1-score   support\n",
            "\n",
            "           0       0.80      0.90      0.85       176\n",
            "           1       0.89      0.89      0.89       176\n",
            "           2       0.96      0.94      0.95       176\n",
            "           3       0.88      0.93      0.90       176\n",
            "           4       0.90      0.77      0.83       176\n",
            "\n",
            "    accuracy                           0.88       880\n",
            "   macro avg       0.89      0.88      0.88       880\n",
            "weighted avg       0.89      0.88      0.88       880\n",
            "\n"
          ]
        }
      ]
    },
    {
      "cell_type": "code",
      "source": [
        "# @title Executar SVM com kernel linear e C=1000.0\n",
        "\n",
        "# Instanciar classificador com kernel linear e C=1000.0\n",
        "linear_svc1000 = SVC(kernel='linear', C=1000.0)\n",
        "\n",
        "linear_svc1000.fit(X_train, y_train)\n",
        "\n",
        "y_pred = linear_svc1000.predict(X_test)\n",
        "\n",
        "print('Acurácia: {0:0.4f}'. format(accuracy_score(y_test, y_pred)))\n"
      ],
      "metadata": {
        "cellView": "form",
        "id": "fXaRG1JqKEbp",
        "colab": {
          "base_uri": "https://localhost:8080/"
        },
        "outputId": "fd52b8b4-4489-4dfb-b731-964603b8833e"
      },
      "execution_count": null,
      "outputs": [
        {
          "output_type": "stream",
          "name": "stdout",
          "text": [
            "Acurácia: 0.8841\n"
          ]
        }
      ]
    },
    {
      "cell_type": "code",
      "source": [
        "# @title Métricas de classificação\n",
        "\n",
        "print(classification_report(y_test, y_pred))\n"
      ],
      "metadata": {
        "cellView": "form",
        "id": "vTVd-mmsRHIs",
        "colab": {
          "base_uri": "https://localhost:8080/"
        },
        "outputId": "18923789-ec17-4183-c7d8-76aabf9ef5bd"
      },
      "execution_count": null,
      "outputs": [
        {
          "output_type": "stream",
          "name": "stdout",
          "text": [
            "              precision    recall  f1-score   support\n",
            "\n",
            "           0       0.80      0.90      0.85       176\n",
            "           1       0.89      0.89      0.89       176\n",
            "           2       0.96      0.94      0.95       176\n",
            "           3       0.88      0.93      0.90       176\n",
            "           4       0.91      0.77      0.83       176\n",
            "\n",
            "    accuracy                           0.88       880\n",
            "   macro avg       0.89      0.88      0.88       880\n",
            "weighted avg       0.89      0.88      0.88       880\n",
            "\n"
          ]
        }
      ]
    },
    {
      "cell_type": "code",
      "source": [
        "# @title Comparar a precisão do conjunto de treino e teste\n",
        "\n",
        "y_pred_train = linear_svc.predict(X_train)\n",
        "\n",
        "print('Acurácia do conjunto de treino: {0:0.4f}'. format(accuracy_score(y_train, y_pred_train)))\n"
      ],
      "metadata": {
        "cellView": "form",
        "id": "2XbQxHM8KVTJ",
        "colab": {
          "base_uri": "https://localhost:8080/"
        },
        "outputId": "67b42406-6e51-41ca-e838-270bff0f77b1"
      },
      "execution_count": null,
      "outputs": [
        {
          "output_type": "stream",
          "name": "stdout",
          "text": [
            "Acurácia do conjunto de treino: 0.8949\n"
          ]
        }
      ]
    },
    {
      "cell_type": "code",
      "source": [
        "# @title Verificar se existe overfitting e underfitting\n",
        "\n",
        "print('Acurácia do conjunto de treino: {:.4f}'.format(linear_svc.score(X_train, y_train)))\n",
        "print('Acurácia do conjunto de teste: {:.4f}'.format(linear_svc.score(X_test, y_test)))\n"
      ],
      "metadata": {
        "cellView": "form",
        "id": "4tLTHYALKuLC",
        "colab": {
          "base_uri": "https://localhost:8080/"
        },
        "outputId": "169a61fb-765f-4b5c-ad54-6ddcfe2248b6"
      },
      "execution_count": null,
      "outputs": [
        {
          "output_type": "stream",
          "name": "stdout",
          "text": [
            "Acurácia do conjunto de treino: 0.8949\n",
            "Acurácia do conjunto de teste: 0.8818\n"
          ]
        }
      ]
    },
    {
      "cell_type": "code",
      "source": [
        "# @title Executar SVM com kernel polinomial e C=1.0\n",
        "\n",
        "# Instanciar classificador com kernel polinomial e C=1.0\n",
        "poly_svc = SVC(kernel='poly', C=1.0)\n",
        "\n",
        "poly_svc.fit(X_train, y_train)\n",
        "\n",
        "y_pred = poly_svc.predict(X_test)\n",
        "\n",
        "print('Acurácia: {0:0.4f}'. format(accuracy_score(y_test, y_pred)))\n"
      ],
      "metadata": {
        "cellView": "form",
        "id": "_XjfqZROLfmX",
        "colab": {
          "base_uri": "https://localhost:8080/"
        },
        "outputId": "c6243634-4608-460c-f532-d73200461dd9"
      },
      "execution_count": null,
      "outputs": [
        {
          "output_type": "stream",
          "name": "stdout",
          "text": [
            "Acurácia: 0.8864\n"
          ]
        }
      ]
    },
    {
      "cell_type": "code",
      "source": [
        "# @title Métricas de classificação\n",
        "\n",
        "print(classification_report(y_test, y_pred))\n"
      ],
      "metadata": {
        "cellView": "form",
        "id": "icg1aIUQRPfd",
        "colab": {
          "base_uri": "https://localhost:8080/"
        },
        "outputId": "50bc043a-7ad6-47f4-e0fe-26d9ea849c12"
      },
      "execution_count": null,
      "outputs": [
        {
          "output_type": "stream",
          "name": "stdout",
          "text": [
            "              precision    recall  f1-score   support\n",
            "\n",
            "           0       0.97      0.82      0.89       176\n",
            "           1       0.79      0.91      0.85       176\n",
            "           2       0.84      0.97      0.90       176\n",
            "           3       0.92      0.91      0.91       176\n",
            "           4       0.97      0.82      0.89       176\n",
            "\n",
            "    accuracy                           0.89       880\n",
            "   macro avg       0.90      0.89      0.89       880\n",
            "weighted avg       0.90      0.89      0.89       880\n",
            "\n"
          ]
        }
      ]
    },
    {
      "cell_type": "code",
      "source": [
        "# @title Executar SVM com kernel polinomial e C=100.0\n",
        "\n",
        "# Instanciar classificador com kernel polinomial e C=100.0\n",
        "poly_svc100 = SVC(kernel='poly', C=100.0)\n",
        "\n",
        "poly_svc100.fit(X_train, y_train)\n",
        "\n",
        "y_pred = poly_svc100.predict(X_test)\n",
        "\n",
        "print('Acurácia: {0:0.4f}'. format(accuracy_score(y_test, y_pred)))\n"
      ],
      "metadata": {
        "cellView": "form",
        "id": "L_7OdkfDL034",
        "colab": {
          "base_uri": "https://localhost:8080/"
        },
        "outputId": "310ec43f-f525-4b6b-992b-4837f0ef0f6e"
      },
      "execution_count": null,
      "outputs": [
        {
          "output_type": "stream",
          "name": "stdout",
          "text": [
            "Acurácia: 0.9250\n"
          ]
        }
      ]
    },
    {
      "cell_type": "code",
      "source": [
        "# @title Métricas de classificação\n",
        "\n",
        "print(classification_report(y_test, y_pred))\n"
      ],
      "metadata": {
        "cellView": "form",
        "id": "mXKcLycsRRGk",
        "colab": {
          "base_uri": "https://localhost:8080/"
        },
        "outputId": "79792d39-33ac-4978-9957-13bdd1bfcca2"
      },
      "execution_count": null,
      "outputs": [
        {
          "output_type": "stream",
          "name": "stdout",
          "text": [
            "              precision    recall  f1-score   support\n",
            "\n",
            "           0       0.94      0.87      0.91       176\n",
            "           1       0.87      0.96      0.91       176\n",
            "           2       0.94      0.98      0.96       176\n",
            "           3       0.96      0.94      0.95       176\n",
            "           4       0.92      0.88      0.90       176\n",
            "\n",
            "    accuracy                           0.93       880\n",
            "   macro avg       0.93      0.93      0.92       880\n",
            "weighted avg       0.93      0.93      0.92       880\n",
            "\n"
          ]
        }
      ]
    },
    {
      "cell_type": "code",
      "source": [
        "# @title Executar SVM com kernel sigmóide e C=1.0\n",
        "\n",
        "# Instanciar classificador com kernel sigmóide e C=1.0\n",
        "sigmoid_svc = SVC(kernel='sigmoid', C=1.0)\n",
        "\n",
        "sigmoid_svc.fit(X_train,y_train)\n",
        "\n",
        "y_pred = sigmoid_svc.predict(X_test)\n",
        "\n",
        "print('Acurácia: {0:0.4f}'. format(accuracy_score(y_test, y_pred)))\n"
      ],
      "metadata": {
        "cellView": "form",
        "id": "k2XUmPlfNCus",
        "colab": {
          "base_uri": "https://localhost:8080/"
        },
        "outputId": "c225f96a-9ef2-4db7-9b23-6c20b3598527"
      },
      "execution_count": null,
      "outputs": [
        {
          "output_type": "stream",
          "name": "stdout",
          "text": [
            "Acurácia: 0.7000\n"
          ]
        }
      ]
    },
    {
      "cell_type": "code",
      "source": [
        "# @title Métricas de classificação\n",
        "\n",
        "print(classification_report(y_test, y_pred))\n"
      ],
      "metadata": {
        "cellView": "form",
        "id": "Y0wyKwFLRTlM",
        "colab": {
          "base_uri": "https://localhost:8080/"
        },
        "outputId": "aa4b4c9b-6884-4ad6-ce24-b4e651ebdac5"
      },
      "execution_count": null,
      "outputs": [
        {
          "output_type": "stream",
          "name": "stdout",
          "text": [
            "              precision    recall  f1-score   support\n",
            "\n",
            "           0       0.52      0.69      0.59       176\n",
            "           1       0.66      0.62      0.64       176\n",
            "           2       0.73      0.68      0.70       176\n",
            "           3       0.83      0.82      0.83       176\n",
            "           4       0.86      0.69      0.76       176\n",
            "\n",
            "    accuracy                           0.70       880\n",
            "   macro avg       0.72      0.70      0.70       880\n",
            "weighted avg       0.72      0.70      0.70       880\n",
            "\n"
          ]
        }
      ]
    },
    {
      "cell_type": "code",
      "source": [
        "# @title Executar SVM com kernel sigmóide e C=100.0\n",
        "\n",
        "# Instanciar classificador com kernel sigmóide e C=100.0\n",
        "sigmoid_svc100 = SVC(kernel='sigmoid', C=100.0)\n",
        "\n",
        "sigmoid_svc100.fit(X_train,y_train)\n",
        "\n",
        "y_pred = sigmoid_svc100.predict(X_test)\n",
        "\n",
        "print('Acurácia: {0:0.4f}'. format(accuracy_score(y_test, y_pred)))\n"
      ],
      "metadata": {
        "cellView": "form",
        "id": "a5CaSB8PNcEC",
        "colab": {
          "base_uri": "https://localhost:8080/"
        },
        "outputId": "f683f2a1-400b-4f17-c3c1-86f311c317c6"
      },
      "execution_count": null,
      "outputs": [
        {
          "output_type": "stream",
          "name": "stdout",
          "text": [
            "Acurácia: 0.6773\n"
          ]
        }
      ]
    },
    {
      "cell_type": "code",
      "source": [
        "# @title Métricas de classificação\n",
        "\n",
        "print(classification_report(y_test, y_pred))\n"
      ],
      "metadata": {
        "cellView": "form",
        "id": "aeaOSo4WRY8h",
        "colab": {
          "base_uri": "https://localhost:8080/"
        },
        "outputId": "f76db9a5-c393-4d68-98a3-b393f6e1abab"
      },
      "execution_count": null,
      "outputs": [
        {
          "output_type": "stream",
          "name": "stdout",
          "text": [
            "              precision    recall  f1-score   support\n",
            "\n",
            "           0       0.52      0.65      0.57       176\n",
            "           1       0.65      0.62      0.63       176\n",
            "           2       0.75      0.67      0.71       176\n",
            "           3       0.78      0.77      0.77       176\n",
            "           4       0.75      0.68      0.72       176\n",
            "\n",
            "    accuracy                           0.68       880\n",
            "   macro avg       0.69      0.68      0.68       880\n",
            "weighted avg       0.69      0.68      0.68       880\n",
            "\n"
          ]
        }
      ]
    },
    {
      "cell_type": "code",
      "source": [
        "# @title Matriz de confusão\n",
        "\n",
        "cm = confusion_matrix(y_test, y_pred)\n",
        "\n",
        "cm_matrix = pd.DataFrame(data=cm, columns=df['label'].unique(), index=df['label'].unique())\n",
        "\n",
        "sns.heatmap(cm_matrix, annot=True, fmt='d', cmap='YlGnBu')\n"
      ],
      "metadata": {
        "cellView": "form",
        "id": "yqUl444wNlFi",
        "colab": {
          "base_uri": "https://localhost:8080/",
          "height": 544
        },
        "outputId": "f0f6353e-f8dc-49cf-eda7-6bc685bb52bf"
      },
      "execution_count": null,
      "outputs": [
        {
          "output_type": "execute_result",
          "data": {
            "text/plain": [
              "<Axes: >"
            ]
          },
          "metadata": {},
          "execution_count": 30
        },
        {
          "output_type": "display_data",
          "data": {
            "text/plain": [
              "<Figure size 640x480 with 2 Axes>"
            ],
            "image/png": "[encoded data removed]"
          },
          "metadata": {}
        }
      ]
    },
    {
      "cell_type": "code",
      "source": [
        "# @title Métricas de classificação\n",
        "\n",
        "print(classification_report(y_test, y_pred))\n"
      ],
      "metadata": {
        "cellView": "form",
        "id": "jIjh1unjPVR1",
        "colab": {
          "base_uri": "https://localhost:8080/"
        },
        "outputId": "d2e1f3dd-b050-4716-b92e-ea775b5b4fd2"
      },
      "execution_count": null,
      "outputs": [
        {
          "output_type": "stream",
          "name": "stdout",
          "text": [
            "              precision    recall  f1-score   support\n",
            "\n",
            "           0       0.52      0.65      0.57       176\n",
            "           1       0.65      0.62      0.63       176\n",
            "           2       0.75      0.67      0.71       176\n",
            "           3       0.78      0.77      0.77       176\n",
            "           4       0.75      0.68      0.72       176\n",
            "\n",
            "    accuracy                           0.68       880\n",
            "   macro avg       0.69      0.68      0.68       880\n",
            "weighted avg       0.69      0.68      0.68       880\n",
            "\n"
          ]
        }
      ]
    },
    {
      "cell_type": "code",
      "source": [
        "# @title Acurácia de classificação\n",
        "\n",
        "TP = cm[0, 0]\n",
        "TN = cm[1, 1]\n",
        "FP = cm[0, 1]\n",
        "FN = cm[1, 0]\n",
        "\n",
        "classification_accuracy = (TP + TN) / float(TP + TN + FP + FN)\n",
        "\n",
        "print('Acurácia: {0:0.4f}'.format(classification_accuracy))\n"
      ],
      "metadata": {
        "cellView": "form",
        "id": "o50uSA1yPnGo",
        "colab": {
          "base_uri": "https://localhost:8080/"
        },
        "outputId": "9504e43c-59c8-44af-d974-b5eef1e3deb7"
      },
      "execution_count": null,
      "outputs": [
        {
          "output_type": "stream",
          "name": "stdout",
          "text": [
            "Acurácia: 0.7508\n"
          ]
        }
      ]
    },
    {
      "cell_type": "code",
      "source": [
        "# @title Erro de classificação\n",
        "\n",
        "classification_error = (FP + FN) / float(TP + TN + FP + FN)\n",
        "\n",
        "print('Erro: {0:0.4f}'.format(classification_error))\n"
      ],
      "metadata": {
        "cellView": "form",
        "id": "E4VsbCePP_pw",
        "colab": {
          "base_uri": "https://localhost:8080/"
        },
        "outputId": "98badd7a-4ad6-4dae-e188-f7c8145ab7e8"
      },
      "execution_count": null,
      "outputs": [
        {
          "output_type": "stream",
          "name": "stdout",
          "text": [
            "Erro: 0.2492\n"
          ]
        }
      ]
    },
    {
      "cell_type": "code",
      "source": [
        "# @title Precisão\n",
        "\n",
        "precision = TP / float(TP + FP)\n",
        "\n",
        "print('Precisão: {0:0.4f}'.format(precision))\n"
      ],
      "metadata": {
        "cellView": "form",
        "id": "KklY5ePhQHsI",
        "colab": {
          "base_uri": "https://localhost:8080/"
        },
        "outputId": "7c31c99f-713d-40ce-be06-106dd386a451"
      },
      "execution_count": null,
      "outputs": [
        {
          "output_type": "stream",
          "name": "stdout",
          "text": [
            "Precisão: 0.8261\n"
          ]
        }
      ]
    },
    {
      "cell_type": "code",
      "source": [
        "# @title Cobertura\n",
        "\n",
        "recall = TP / float(TP + FN)\n",
        "\n",
        "print('Cobertura: {0:0.4f}'.format(recall))\n"
      ],
      "metadata": {
        "cellView": "form",
        "id": "Vwq6nWT8QZZI",
        "colab": {
          "base_uri": "https://localhost:8080/"
        },
        "outputId": "c4609a72-26c7-4a7c-e51f-29b94eb0e207"
      },
      "execution_count": null,
      "outputs": [
        {
          "output_type": "stream",
          "name": "stdout",
          "text": [
            "Cobertura: 0.6951\n"
          ]
        }
      ]
    },
    {
      "cell_type": "code",
      "source": [
        "# @title Verdadeiro Positivo\n",
        "\n",
        "true_positive_rate = TP / float(TP + FN)\n",
        "\n",
        "print('TP: {0:0.4f}'.format(true_positive_rate))\n"
      ],
      "metadata": {
        "cellView": "form",
        "id": "E3aMat-lQlcC",
        "colab": {
          "base_uri": "https://localhost:8080/"
        },
        "outputId": "9f0923f0-4982-43b1-ea64-2d858ed2c573"
      },
      "execution_count": null,
      "outputs": [
        {
          "output_type": "stream",
          "name": "stdout",
          "text": [
            "TP: 0.6951\n"
          ]
        }
      ]
    },
    {
      "cell_type": "code",
      "source": [
        "# @title Falso Positivo\n",
        "\n",
        "false_positive_rate = FP / float(FP + TN)\n",
        "\n",
        "print('FP: {0:0.4f}'.format(false_positive_rate))\n"
      ],
      "metadata": {
        "cellView": "form",
        "id": "V0hyedujQ1b3",
        "colab": {
          "base_uri": "https://localhost:8080/"
        },
        "outputId": "3c468106-8f72-48f9-fd5c-06d2d562c7ae"
      },
      "execution_count": null,
      "outputs": [
        {
          "output_type": "stream",
          "name": "stdout",
          "text": [
            "FP: 0.1805\n"
          ]
        }
      ]
    },
    {
      "cell_type": "code",
      "source": [
        "# @title Especificidade\n",
        "\n",
        "specificity = TN / (TN + FP)\n",
        "\n",
        "print('Especificidade: {0:0.4f}'.format(specificity))\n"
      ],
      "metadata": {
        "cellView": "form",
        "id": "BXfw2e6kQ98i",
        "colab": {
          "base_uri": "https://localhost:8080/"
        },
        "outputId": "f04231b4-56fb-4556-ab21-45a1f8456117"
      },
      "execution_count": null,
      "outputs": [
        {
          "output_type": "stream",
          "name": "stdout",
          "text": [
            "Especificidade: 0.8195\n"
          ]
        }
      ]
    },
    {
      "cell_type": "code",
      "source": [
        "# @title Validação cruzada estratificada k-Fold com divisão aleatória com kernel linear\n",
        "\n",
        "k_fold = KFold(n_splits=5, shuffle=True, random_state=0)\n",
        "linear_svc = SVC(kernel='linear')\n",
        "linear_scores = cross_val_score(linear_svc, X, y, cv=k_fold)\n",
        "\n",
        "print('Pontuações médias estratificadas de validação cruzada com kernel linear:\\n\\n{}'.format(linear_scores.mean()))\n"
      ],
      "metadata": {
        "cellView": "form",
        "id": "FNA0dM4YTDBX",
        "colab": {
          "base_uri": "https://localhost:8080/"
        },
        "outputId": "e256d992-c759-4247-8a67-e2e4d448ee20"
      },
      "execution_count": null,
      "outputs": [
        {
          "output_type": "stream",
          "name": "stdout",
          "text": [
            "Pontuações médias estratificadas de validação cruzada com kernel linear:\n",
            "\n",
            "0.8690629847967731\n"
          ]
        }
      ]
    },
    {
      "cell_type": "code",
      "source": [
        "# @title Validação cruzada k-Fold estratificada com divisão aleatória com kernel rbf\n",
        "\n",
        "rbf_svc = SVC(kernel='rbf')\n",
        "rbf_scores = cross_val_score(rbf_svc, X, y, cv=k_fold)\n",
        "\n",
        "print('Pontuações médias estratificadas de validação cruzada com o kernel rbf:\\n\\n{}'.format(rbf_scores.mean()))\n"
      ],
      "metadata": {
        "cellView": "form",
        "id": "llOBHR2cTaCP",
        "colab": {
          "base_uri": "https://localhost:8080/"
        },
        "outputId": "8e3ea488-7aed-4ebd-8db1-cf7c5736ddb2"
      },
      "execution_count": null,
      "outputs": [
        {
          "output_type": "stream",
          "name": "stdout",
          "text": [
            "Pontuações médias estratificadas de validação cruzada com o kernel rbf:\n",
            "\n",
            "0.9181647533354018\n"
          ]
        }
      ]
    },
    {
      "cell_type": "code",
      "source": [
        "# @title Otimização de hiperparâmetros usando o GridSearchCV\n",
        "\n",
        "svc = SVC()\n",
        "\n",
        "# Declarar parâmetros para o ajuste de hiperparâmetros\n",
        "# parameters = [\n",
        "#     # {\n",
        "#     #     # 'C': [1e-5, 1e-4, 1e-3, 1e-2, 0.1, 1, 10, 100],\n",
        "#     #     'C': [1e-3, 1e-2, 0.1, 1, 10, 100],\n",
        "#     #     'kernel': ['linear']\n",
        "#     # },\n",
        "#     # {\n",
        "#     #     'C': [1e-5, 1e-4, 1e-3, 1e-2, 0.1, 1, 10, 100],\n",
        "#     #     'kernel':['rbf'],\n",
        "#     #     'gamma': [(valor / 10) for valor in range(20)]\n",
        "#     # },\n",
        "#     {\n",
        "#         'C': [1e-5, 1e-4, 1e-3, 1e-2, 0.1, 1, 10, 100],\n",
        "#         'kernel': ['poly'],\n",
        "#         'degree': [valor for valor in range(16)],\n",
        "#         'gamma': [valor / 10000 for valor in range(0, 201, 10)] + [valor / 10 for valor in range(20)],\n",
        "#         # 'coef0': [-2.0, -1.0, -0.5, 0.0, 0.5, 1.0, 2.0, 3.0]\n",
        "#     }\n",
        "# ]\n",
        "\n",
        "\n",
        "parameters = [\n",
        "    # {\n",
        "    #     # 'C': [1e-5, 1e-4, 1e-3, 1e-2, 0.1, 1, 10, 100],\n",
        "    #     'C': [1e-3, 1e-2, 0.1, 1, 10, 100],\n",
        "    #     'kernel': ['linear']\n",
        "    # },\n",
        "    # {\n",
        "    #     'C': [1e-5, 1e-4, 1e-3, 1e-2, 0.1, 1, 10, 100],\n",
        "    #     'kernel':['rbf'],\n",
        "    #     'gamma': [(valor / 10) for valor in range(20)]\n",
        "    # },\n",
        "    {\n",
        "        'C': [1e-5, 1e-4, 1e-3, 1e-2, 0.1, 1, 10, 100],\n",
        "        'gamma': list(set([valor / 10000 for valor in range(0, 201)] + [valor / 10 for valor in range(20)])),\n",
        "        'coef0': [-1.0, 0.0, 1.0]\n",
        "    }\n",
        "]\n",
        "\n",
        "# Configurar GridSearchCV\n",
        "grid_search = GridSearchCV(\n",
        "    estimator=svc,\n",
        "    param_grid=parameters,\n",
        "    refit=True,\n",
        "    scoring='accuracy',\n",
        "    cv=5,\n",
        "    verbose=0\n",
        "    )\n",
        "\n",
        "# Ajustar o GridSearchCV ao conjunto de treinamento\n",
        "grid_search.fit(X_train, y_train)\n",
        "\n",
        "# Exibir resultados da pesquisa\n",
        "print('Melhor pontuação do GridSearchCV: {:.4f}\\n\\n'.format(grid_search.best_score_))\n",
        "print('Parâmetros que dão os melhores resultados:','\\n\\n', (grid_search.best_params_))\n",
        "print('\\n\\nEstimador que foi escolhido pela pesquisa:','\\n\\n', (grid_search.best_estimator_))\n",
        "print('Pontuação GridSearchCV no conjunto de teste: {0:0.4f}'.format(grid_search.score(X_test, y_test)))\n",
        "\n",
        "# Fazer previsões com o melhor modelo encontrado\n",
        "y_pred = grid_search.predict(X_test)\n",
        "\n",
        "# Exibir a acurácia das previsões\n",
        "print('Acurácia: {0:0.4f}'. format(accuracy_score(y_test, y_pred)))\n"
      ],
      "metadata": {
        "cellView": "form",
        "id": "vdaVigcrTmrM",
        "colab": {
          "base_uri": "https://localhost:8080/"
        },
        "outputId": "c823f82b-cd1a-4ba6-c523-fb5a47be2ac6"
      },
      "execution_count": null,
      "outputs": [
        {
          "output_type": "stream",
          "name": "stdout",
          "text": [
            "Melhor pontuação do GridSearchCV: 0.9440\n",
            "\n",
            "\n",
            "Parâmetros que dão os melhores resultados: \n",
            "\n",
            " {'C': 100, 'coef0': -1.0, 'gamma': 0.0127}\n",
            "\n",
            "\n",
            "Estimador que foi escolhido pela pesquisa: \n",
            "\n",
            " SVC(C=100, coef0=-1.0, gamma=0.0127)\n",
            "Pontuação GridSearchCV no conjunto de teste: 0.9511\n",
            "Acurácia: 0.9511\n"
          ]
        }
      ]
    },
    {
      "cell_type": "code",
      "source": [
        "# @title Matriz de confusão\n",
        "\n",
        "cm = confusion_matrix(y_test, y_pred)\n",
        "\n",
        "cm_matrix = pd.DataFrame(data=cm, columns=df['label'].unique(), index=df['label'].unique())\n",
        "\n",
        "sns.heatmap(cm_matrix, annot=True, fmt='d', cmap='YlGnBu')\n"
      ],
      "metadata": {
        "cellView": "form",
        "id": "TVRrge2dtpac",
        "colab": {
          "base_uri": "https://localhost:8080/",
          "height": 544
        },
        "outputId": "93f40a17-2d08-4592-a3d5-a98a9b70b75f"
      },
      "execution_count": null,
      "outputs": [
        {
          "output_type": "execute_result",
          "data": {
            "text/plain": [
              "<Axes: >"
            ]
          },
          "metadata": {},
          "execution_count": 42
        },
        {
          "output_type": "display_data",
          "data": {
            "text/plain": [
              "<Figure size 640x480 with 2 Axes>"
            ],
            "image/png": "[encoded data removed]"
          },
          "metadata": {}
        }
      ]
    },
    {
      "cell_type": "code",
      "source": [
        "# @title Métricas de classificação\n",
        "\n",
        "print(classification_report(y_test, y_pred))\n"
      ],
      "metadata": {
        "cellView": "form",
        "id": "id_TczEQR7CL",
        "colab": {
          "base_uri": "https://localhost:8080/"
        },
        "outputId": "b2c4356e-998a-4091-f9a3-da70b4f31f7d"
      },
      "execution_count": null,
      "outputs": [
        {
          "metadata": {
            "tags": null
          },
          "name": "stdout",
          "output_type": "stream",
          "text": [
            "              precision    recall  f1-score   support\n",
            "\n",
            "           0       0.98      0.91      0.95       176\n",
            "           1       0.92      0.99      0.96       176\n",
            "           2       0.98      0.99      0.98       176\n",
            "           3       0.94      0.95      0.95       176\n",
            "           4       0.94      0.90      0.92       176\n",
            "\n",
            "    accuracy                           0.95       880\n",
            "   macro avg       0.95      0.95      0.95       880\n",
            "weighted avg       0.95      0.95      0.95       880\n",
            "\n"
          ]
        }
      ]
    },
    {
      "cell_type": "code",
      "source": [
        "from joblib import dump\n",
        "\n",
        "# Salvar o modelo treinado como um arquivo joblib\n",
        "dump(grid_search, f'{PATH}/pesos_pose_classification_v1_svc.joblib')\n"
      ],
      "metadata": {
        "colab": {
          "base_uri": "https://localhost:8080/"
        },
        "id": "7mC-QZMsFyHJ",
        "outputId": "11b56222-c8cf-4c0e-ec7a-215380817f83"
      },
      "execution_count": null,
      "outputs": [
        {
          "output_type": "execute_result",
          "data": {
            "text/plain": [
              "['/content/drive/MyDrive/Materiais do TCC/Teste YOLO/Projeto Canoas/TCC2/pesos_pose_classification_v1_svc.joblib']"
            ]
          },
          "metadata": {},
          "execution_count": 44
        }
      ]
    }
  ]
}