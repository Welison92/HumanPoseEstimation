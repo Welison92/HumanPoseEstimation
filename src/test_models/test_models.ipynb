{
  "nbformat": 4,
  "nbformat_minor": 0,
  "metadata": {
    "colab": {
      "provenance": []
    },
    "kernelspec": {
      "name": "python3",
      "display_name": "Python 3"
    },
    "language_info": {
      "name": "python"
    }
  },
  "cells": [
    {
      "cell_type": "code",
      "source": [
        "pip install scikit-learn==1.3.2"
      ],
      "metadata": {
        "colab": {
          "base_uri": "https://localhost:8080/"
        },
        "id": "yUG5z-ih1ovk",
        "outputId": "1cc4ebb0-aa28-455d-a041-dd459e9773b8"
      },
      "execution_count": null,
      "outputs": [
        {
          "output_type": "stream",
          "name": "stdout",
          "text": [
            "Collecting scikit-learn==1.3.2\n",
            "  Downloading scikit_learn-1.3.2-cp310-cp310-manylinux_2_17_x86_64.manylinux2014_x86_64.whl.metadata (11 kB)\n",
            "Requirement already satisfied: numpy<2.0,>=1.17.3 in /usr/local/lib/python3.10/dist-packages (from scikit-learn==1.3.2) (1.26.4)\n",
            "Requirement already satisfied: scipy>=1.5.0 in /usr/local/lib/python3.10/dist-packages (from scikit-learn==1.3.2) (1.13.1)\n",
            "Requirement already satisfied: joblib>=1.1.1 in /usr/local/lib/python3.10/dist-packages (from scikit-learn==1.3.2) (1.4.2)\n",
            "Requirement already satisfied: threadpoolctl>=2.0.0 in /usr/local/lib/python3.10/dist-packages (from scikit-learn==1.3.2) (3.5.0)\n",
            "Downloading scikit_learn-1.3.2-cp310-cp310-manylinux_2_17_x86_64.manylinux2014_x86_64.whl (10.8 MB)\n",
            "\u001b[2K   \u001b[90m━━━━━━━━━━━━━━━━━━━━━━━━━━━━━━━━━━━━━━━━\u001b[0m \u001b[32m10.8/10.8 MB\u001b[0m \u001b[31m36.4 MB/s\u001b[0m eta \u001b[36m0:00:00\u001b[0m\n",
            "\u001b[?25hInstalling collected packages: scikit-learn\n",
            "  Attempting uninstall: scikit-learn\n",
            "    Found existing installation: scikit-learn 1.5.2\n",
            "    Uninstalling scikit-learn-1.5.2:\n",
            "      Successfully uninstalled scikit-learn-1.5.2\n",
            "Successfully installed scikit-learn-1.3.2\n"
          ]
        }
      ]
    },
    {
      "cell_type": "code",
      "execution_count": null,
      "metadata": {
        "cellView": "form",
        "id": "_NrDiz0E5xA4"
      },
      "outputs": [],
      "source": [
        "# @title Instalar bibliotecas\n",
        "\n",
        "%%capture\n",
        "!pip install ultralytics"
      ]
    },
    {
      "cell_type": "code",
      "source": [
        "# @title Importar os módulos\n",
        "\n",
        "import os\n",
        "import cv2\n",
        "import glob\n",
        "import torch\n",
        "import shutil\n",
        "import zipfile\n",
        "import ultralytics\n",
        "import numpy as np\n",
        "import pandas as pd\n",
        "from torch import nn\n",
        "from PIL import Image\n",
        "from time import sleep\n",
        "from joblib import load\n",
        "from pydantic import BaseModel\n",
        "import matplotlib.pyplot as plt\n",
        "import matplotlib.image as mpimg\n",
        "from skimage.transform import resize\n",
        "from ultralytics.engine.results import Results\n",
        "from sklearn.metrics import classification_report\n"
      ],
      "metadata": {
        "cellView": "form",
        "id": "gBjgb-jH8EVX",
        "colab": {
          "base_uri": "https://localhost:8080/"
        },
        "outputId": "feff965a-2fe3-499e-ac55-b7530e76636a"
      },
      "execution_count": null,
      "outputs": [
        {
          "output_type": "stream",
          "name": "stdout",
          "text": [
            "Creating new Ultralytics Settings v0.0.6 file ✅ \n",
            "View Ultralytics Settings with 'yolo settings' or at '/root/.config/Ultralytics/settings.json'\n",
            "Update Settings with 'yolo settings key=value', i.e. 'yolo settings runs_dir=path/to/dir'. For help see https://docs.ultralytics.com/quickstart/#ultralytics-settings.\n"
          ]
        }
      ]
    },
    {
      "cell_type": "code",
      "source": [
        "# @title Obter o dataset\n",
        "\n",
        "PATH = '/content/drive/MyDrive/Materiais do TCC/Teste YOLO/Projeto Canoas/TCC2'\n",
        "dataset_root = f'{PATH}/keypoints_pose_teste.csv'\n",
        "\n",
        "df = pd.read_csv(dataset_root)\n"
      ],
      "metadata": {
        "cellView": "form",
        "id": "ldlbWA7-8FN_"
      },
      "execution_count": null,
      "outputs": []
    },
    {
      "cell_type": "code",
      "source": [
        "# @title Funções\n",
        "\n",
        "class NeuralNet(nn.Module):\n",
        "    def __init__(\n",
        "        self,\n",
        "        input_size=34,\n",
        "        hidden_size=512,\n",
        "        num_classes=5\n",
        "    ):\n",
        "        super(NeuralNet, self).__init__()\n",
        "        self.l1 = nn.Linear(input_size, hidden_size)\n",
        "        self.relu = nn.ReLU()\n",
        "        self.l2 = nn.Linear(hidden_size, num_classes)\n",
        "\n",
        "    def forward(self, x):\n",
        "        out = self.l1(x)\n",
        "        out = self.relu(out)\n",
        "        out = self.l2(out)\n",
        "        return out\n",
        "\n",
        "\n",
        "class KeypointClassification:\n",
        "    def __init__(self, path_model: str):\n",
        "        \"\"\"\n",
        "        Inicializa a classe KeypointClassification.\n",
        "        :param path_model: Caminho para o modelo pré-treinado.\n",
        "        \"\"\"\n",
        "        self.path_model = path_model\n",
        "        # self.classes = ['Dor_Joelho', 'Caminhando', 'Mao_na_cabeca', 'Caido', 'Mao_No_Peito', 'Cansado']\n",
        "        self.classes = ['Caido', 'Caminhando', 'Cansado', 'Mao_na_cabeca', 'Mao_No_Peito']\n",
        "        self.device = torch.device(\"cuda\" if torch.cuda.is_available() else \"cpu\")\n",
        "        self.model = self.load_model()\n",
        "\n",
        "    def load_model(self):\n",
        "        \"\"\"\n",
        "        Carrega o modelo pré-treinado.\n",
        "        :return: Modelo carregado.\n",
        "        \"\"\"\n",
        "        model = NeuralNet()\n",
        "        model.load_state_dict(torch.load(self.path_model, map_location=self.device))\n",
        "        return model\n",
        "\n",
        "    def __call__(self, input_keypoint):\n",
        "        \"\"\"\n",
        "        Classifica o keypoint de entrada.\n",
        "        :param input_keypoint: Keypoint a ser classificado.\n",
        "        :return: Classe prevista para o keypoint.\n",
        "        \"\"\"\n",
        "        if not isinstance(input_keypoint, torch.Tensor):\n",
        "            input_keypoint = torch.tensor(input_keypoint, dtype=torch.float32)\n",
        "        out = self.model(input_keypoint)\n",
        "        _, predict = torch.max(out, -1)\n",
        "        label_predict = self.classes[predict]\n",
        "        return label_predict\n",
        "\n",
        "\n",
        "classification_keypoint = KeypointClassification(PATH + '/pesos_pose_classification_v1.pt')\n",
        "model_svm = load(f'{PATH}/pesos_pose_classification_v1_svc.joblib')\n"
      ],
      "metadata": {
        "cellView": "form",
        "id": "z_FEnugY9QPl"
      },
      "execution_count": null,
      "outputs": []
    },
    {
      "cell_type": "markdown",
      "source": [
        "# Testando MLP"
      ],
      "metadata": {
        "id": "v0jrCr20Bt-N"
      }
    },
    {
      "cell_type": "code",
      "source": [
        "# @title Previsões originais\n",
        "\n",
        "y_real_mlp = []\n",
        "y_pred_mlp = []\n",
        "\n",
        "for indice, linha in df.iterrows():\n",
        "    label = linha.iloc[1]\n",
        "    linha = linha.to_list()[2:]\n",
        "\n",
        "    results_classification = classification_keypoint(linha)\n",
        "\n",
        "    y_real_mlp.append(label.lower())\n",
        "    y_pred_mlp.append(results_classification.lower())\n",
        "\n",
        "print(classification_report(y_real_mlp, y_pred_mlp))\n"
      ],
      "metadata": {
        "colab": {
          "base_uri": "https://localhost:8080/"
        },
        "cellView": "form",
        "id": "L3VqeBaN9vID",
        "outputId": "ac14fb04-81b7-40b1-81ba-2518460f6e22"
      },
      "execution_count": null,
      "outputs": [
        {
          "output_type": "stream",
          "name": "stdout",
          "text": [
            "               precision    recall  f1-score   support\n",
            "\n",
            "        caido       0.87      0.95      0.91        41\n",
            "   caminhando       0.93      0.95      0.94        44\n",
            "      cansado       0.94      1.00      0.97        45\n",
            "mao_na_cabeca       0.10      0.12      0.11        41\n",
            " mao_no_peito       0.00      0.00      0.00        43\n",
            "\n",
            "     accuracy                           0.61       214\n",
            "    macro avg       0.57      0.61      0.59       214\n",
            " weighted avg       0.58      0.61      0.59       214\n",
            "\n"
          ]
        }
      ]
    },
    {
      "cell_type": "code",
      "source": [
        "# @title Previsões ajustadas\n",
        "\n",
        "y_real_ajustadas_mlp = []\n",
        "y_pred_ajustadas_mlp = []\n",
        "\n",
        "for indice, linha in df.iterrows():\n",
        "    label = linha.iloc[1]\n",
        "    linha = linha.to_list()[2:]\n",
        "\n",
        "    results_classification = classification_keypoint(linha)\n",
        "\n",
        "    if results_classification.lower() == 'Mao_na_cabeca'.lower():\n",
        "        results_classification = 'Mao_No_Peito'.lower()\n",
        "    elif results_classification.lower() == 'Mao_No_Peito'.lower():\n",
        "        results_classification = 'Mao_na_cabeca'.lower()\n",
        "\n",
        "    y_real_ajustadas_mlp.append(label.lower())\n",
        "    y_pred_ajustadas_mlp.append(results_classification.lower())\n",
        "\n",
        "print(classification_report(y_real_ajustadas_mlp, y_pred_ajustadas_mlp))\n"
      ],
      "metadata": {
        "colab": {
          "base_uri": "https://localhost:8080/"
        },
        "cellView": "form",
        "id": "H9DrHeZyAsWF",
        "outputId": "6aeba52f-1733-41f3-e2f6-b87879d2f6d8"
      },
      "execution_count": null,
      "outputs": [
        {
          "output_type": "stream",
          "name": "stdout",
          "text": [
            "               precision    recall  f1-score   support\n",
            "\n",
            "        caido       0.87      0.95      0.91        41\n",
            "   caminhando       0.93      0.95      0.94        44\n",
            "      cansado       0.94      1.00      0.97        45\n",
            "mao_na_cabeca       1.00      0.68      0.81        41\n",
            " mao_no_peito       0.88      0.98      0.92        43\n",
            "\n",
            "     accuracy                           0.92       214\n",
            "    macro avg       0.92      0.91      0.91       214\n",
            " weighted avg       0.92      0.92      0.91       214\n",
            "\n"
          ]
        }
      ]
    },
    {
      "cell_type": "markdown",
      "source": [
        "# Testando SVM"
      ],
      "metadata": {
        "id": "a6xLb0g-HLeq"
      }
    },
    {
      "cell_type": "code",
      "source": [
        "# @title Previsões originais\n",
        "\n",
        "def mapear_previsao(previsao):\n",
        "    nomes = {\n",
        "        0: 'Caido',\n",
        "        1: 'Caminhando',\n",
        "        2: 'Cansado',\n",
        "        3: 'Mao_No_Peito',\n",
        "        4: 'Mao_na_cabeca'\n",
        "    }\n",
        "\n",
        "    return nomes[previsao]\n",
        "\n",
        "\n",
        "y_real_svm = []\n",
        "y_pred_svm = []\n",
        "\n",
        "for indice, linha in df.iterrows():\n",
        "    label = linha.iloc[1]\n",
        "    linha = linha.to_list()[2:]\n",
        "\n",
        "    previsao = model_svm.predict(np.array([linha]))[0]\n",
        "\n",
        "    y_real_svm.append(label.lower())\n",
        "    y_pred_svm.append(mapear_previsao(previsao).lower())\n",
        "\n",
        "print(classification_report(y_real_svm, y_pred_svm))\n"
      ],
      "metadata": {
        "colab": {
          "base_uri": "https://localhost:8080/"
        },
        "cellView": "form",
        "id": "1zwu5mscHK8a",
        "outputId": "923f59a9-f1f5-403d-e80c-0600b8daadc6"
      },
      "execution_count": null,
      "outputs": [
        {
          "output_type": "stream",
          "name": "stdout",
          "text": [
            "               precision    recall  f1-score   support\n",
            "\n",
            "        caido       0.32      0.88      0.47        41\n",
            "   caminhando       0.57      0.09      0.16        44\n",
            "      cansado       1.00      0.07      0.12        45\n",
            "mao_na_cabeca       1.00      0.10      0.18        41\n",
            " mao_no_peito       0.32      0.65      0.43        43\n",
            "\n",
            "     accuracy                           0.35       214\n",
            "    macro avg       0.64      0.36      0.27       214\n",
            " weighted avg       0.64      0.35      0.27       214\n",
            "\n"
          ]
        }
      ]
    }
  ]
}